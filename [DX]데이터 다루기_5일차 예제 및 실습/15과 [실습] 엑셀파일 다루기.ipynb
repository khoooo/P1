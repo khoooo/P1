{
 "cells": [
  {
   "cell_type": "markdown",
   "id": "5b5d92ed",
   "metadata": {
    "id": "710ee378"
   },
   "source": [
    "# chapter 15. 엑셀 다루기"
   ]
  },
  {
   "cell_type": "markdown",
   "id": "91ffd12c",
   "metadata": {
    "id": "a16b2654"
   },
   "source": [
    "## 1) 엑셀파일 열기"
   ]
  },
  {
   "cell_type": "markdown",
   "id": "fa677c27",
   "metadata": {
    "id": "vGTJ_z-Xv541"
   },
   "source": [
    "① openpyxl 라이브러리를 불러옵니다."
   ]
  },
  {
   "cell_type": "code",
   "execution_count": 1,
   "id": "b6e85eb4",
   "metadata": {
    "id": "f250c4bc"
   },
   "outputs": [],
   "source": [
    "import openpyxl as xl"
   ]
  },
  {
   "cell_type": "markdown",
   "id": "23fe42d5",
   "metadata": {
    "id": "Dp5dJiIsv8IN"
   },
   "source": [
    "② 제공받은 파일 fruit.xlsx를 불러 옵니다."
   ]
  },
  {
   "cell_type": "code",
   "execution_count": 3,
   "id": "34cd4e54",
   "metadata": {
    "id": "686c9949"
   },
   "outputs": [],
   "source": [
    "wb=xl.load_workbook('fruit.xlsx')"
   ]
  },
  {
   "cell_type": "markdown",
   "id": "1150c450",
   "metadata": {
    "id": "st3nanVwv-7i"
   },
   "source": [
    "③ 파일 fruit.xlsx의 시트 이름을 불러 옵니다."
   ]
  },
  {
   "cell_type": "code",
   "execution_count": 5,
   "id": "26e4c2da",
   "metadata": {
    "id": "61f833a4"
   },
   "outputs": [
    {
     "data": {
      "text/plain": [
       "['Sheet1', 'Sheet2']"
      ]
     },
     "execution_count": 5,
     "metadata": {},
     "output_type": "execute_result"
    }
   ],
   "source": [
    "wb.sheetnames"
   ]
  },
  {
   "cell_type": "markdown",
   "id": "ac9db216",
   "metadata": {
    "id": "UmejVzIOwBKp"
   },
   "source": [
    "④ Sheet2 으로 부터 A1, A2, A3 셀의 값을 불러 옵시다.\n",
    "* 힌트: 시트 이름[셀].value"
   ]
  },
  {
   "cell_type": "code",
   "execution_count": 10,
   "id": "c382d42d",
   "metadata": {
    "id": "7415a66b"
   },
   "outputs": [
    {
     "name": "stdout",
     "output_type": "stream",
     "text": [
      "Pineapple\n",
      "red\n"
     ]
    }
   ],
   "source": [
    "sheet1 = wb['Sheet1']\n",
    "\n",
    "print(sheet1['A1'].value)\n",
    "print(sheet1['B1'].value)\n",
    "\n"
   ]
  },
  {
   "cell_type": "markdown",
   "id": "ec91bd80",
   "metadata": {
    "id": "RWyqk7MGwIO9"
   },
   "source": [
    "⑤ Sheet1에서 (행,열)을 (1,1), (1,2), (2,1), (2,2)을 조회합시다.\n",
    "* 힌트: 시트 이름.cell(행, 열).value"
   ]
  },
  {
   "cell_type": "code",
   "execution_count": 13,
   "id": "8e9f6f8d",
   "metadata": {
    "id": "1cb680c4"
   },
   "outputs": [
    {
     "name": "stdout",
     "output_type": "stream",
     "text": [
      "Pineapple\n",
      "red\n",
      "Banana\n",
      "yellow\n"
     ]
    }
   ],
   "source": [
    "print(sheet1.cell(1,1).value)\n",
    "print(sheet1.cell(1,2).value)\n",
    "print(sheet1.cell(2,1).value)\n",
    "print(sheet1.cell(2,2).value)"
   ]
  },
  {
   "cell_type": "markdown",
   "id": "0130c769",
   "metadata": {
    "id": "WfL-g49Uwg0F"
   },
   "source": [
    "⑥ Sheet1 에서 데이터의 시작과 끝의 행, 열 번호를 조회합시다.\n",
    "* 힌트: \n",
    "    * 행 - 시트 이름.min_row, 시트 이름.max_row\n",
    "    * 열 - 시트 이름.min_column, 시트 이름.max_column"
   ]
  },
  {
   "cell_type": "code",
   "execution_count": 15,
   "id": "4de3f5ee",
   "metadata": {
    "id": "5c4b27b6"
   },
   "outputs": [
    {
     "name": "stdout",
     "output_type": "stream",
     "text": [
      "1 4\n",
      "1 2\n"
     ]
    }
   ],
   "source": [
    "print(sheet1.min_row, sheet1.max_row)\n",
    "print(sheet1.min_column, sheet1.max_column)"
   ]
  },
  {
   "cell_type": "markdown",
   "id": "7bb85fcf",
   "metadata": {
    "id": "fa936313"
   },
   "source": [
    "## 2) 엑셀 수정하기"
   ]
  },
  {
   "cell_type": "markdown",
   "id": "3f5f5573",
   "metadata": {
    "id": "KvFqEJYXwmYW"
   },
   "source": [
    "① Sheet2 에서 Apple을 Pineapple로 수정하시오.\n",
    "* 힌트: 시트 이름[셀].value = 수정할 값"
   ]
  },
  {
   "cell_type": "code",
   "execution_count": 18,
   "id": "ddfbf1d1",
   "metadata": {
    "id": "8be0b61c"
   },
   "outputs": [
    {
     "name": "stdout",
     "output_type": "stream",
     "text": [
      "Pineapple\n"
     ]
    }
   ],
   "source": [
    "sheet1.cell(1,1).value = 'Pineapple'\n",
    "print(sheet1.cell(1,1).value)"
   ]
  },
  {
   "cell_type": "markdown",
   "id": "54f940e8",
   "metadata": {
    "id": "0ALTkaS4wpWf"
   },
   "source": [
    "② 마지막 행에 'Orange', 'orange' 를 추가하시오.\n",
    "* 힌트: 시트 이름[행, 열].value = 추가할 값"
   ]
  },
  {
   "cell_type": "code",
   "execution_count": 19,
   "id": "37d906a8",
   "metadata": {
    "id": "0cd059ef"
   },
   "outputs": [
    {
     "name": "stdout",
     "output_type": "stream",
     "text": [
      "Orange\n",
      "orange\n"
     ]
    }
   ],
   "source": [
    "new_row = sheet1.max_row + 1\n",
    "\n",
    "sheet1.cell(new_row,1).value = 'Orange'\n",
    "sheet1.cell(new_row,2).value = 'orange'\n",
    "\n",
    "print(sheet1.cell(new_row,1).value)\n",
    "print(sheet1.cell(new_row,2).value)"
   ]
  },
  {
   "cell_type": "markdown",
   "id": "ef5b6ad4",
   "metadata": {
    "id": "mdDdeDXnwsqR"
   },
   "source": [
    "③ 수정사항 저장하기"
   ]
  },
  {
   "cell_type": "code",
   "execution_count": 20,
   "id": "e41800df",
   "metadata": {
    "id": "250bd2bc"
   },
   "outputs": [],
   "source": [
    "wb.save('fruit2.xlsx')"
   ]
  },
  {
   "cell_type": "markdown",
   "id": "280bf379",
   "metadata": {
    "id": "1BkBgAaEwuRZ"
   },
   "source": [
    "④ [심화] 아래 과일과 색깔을 for 반복문으로 추가하고, fruit4.xlsx로 다시 저장하시오.  \n",
    "\n",
    "|과일|색|\n",
    "|------|---|\n",
    "|Strawberry|red|\n",
    "|Grape|purple|\n",
    "|Kiwi1|green|\n"
   ]
  },
  {
   "cell_type": "code",
   "execution_count": 21,
   "id": "1e94da33",
   "metadata": {
    "id": "4a7366a0"
   },
   "outputs": [],
   "source": [
    "fruit = ['Strawberry', 'Grape', 'kiwi']\n",
    "color = ['red', 'pupple', 'green']\n",
    "\n",
    "new_row = sheet1.max_row + 1\n",
    "\n",
    "for i in range(0,3):\n",
    "    sheet1.cell(new_row+i,1).value = fruit[i]\n",
    "    sheet1.cell(new_row+i,2).value = fruit[i]\n",
    "    \n",
    "wb.save('fruit4.xlsx')"
   ]
  },
  {
   "cell_type": "code",
   "execution_count": 50,
   "id": "c26d1a2e",
   "metadata": {},
   "outputs": [
    {
     "name": "stdout",
     "output_type": "stream",
     "text": [
      "Pineapple\n",
      "Banana\n",
      "Melon\n",
      "Orange\n"
     ]
    }
   ],
   "source": [
    "import openpyxl as xl\n",
    "\n",
    "wb=xl.load_workbook('fruit.xlsx')\n",
    "s1=wb['Sheet1']\n",
    "\n",
    "for i in range(1,5):\n",
    "    print(s1.cell(i,1).value)"
   ]
  },
  {
   "cell_type": "code",
   "execution_count": null,
   "id": "0e3c07e0",
   "metadata": {},
   "outputs": [],
   "source": []
  },
  {
   "cell_type": "code",
   "execution_count": null,
   "id": "65a4458c",
   "metadata": {},
   "outputs": [],
   "source": []
  },
  {
   "attachments": {
    "image.png": {
     "image/png": "[encoded data removed]"
    }
   },
   "cell_type": "markdown",
   "id": "97238175",
   "metadata": {
    "id": "Kc7EyymSw_6k"
   },
   "source": [
    "⑤ [심화] ④ 번까지 수행한 결과에 세번째 열에 0부터 6까지 숫자를 순서대로 저장하고, 파일을 fruit5.xlsx로 저장하시오.\n",
    "\n",
    "![image.png](attachment:image.png)\n"
   ]
  },
  {
   "cell_type": "code",
   "execution_count": 46,
   "id": "7c06fe34",
   "metadata": {
    "id": "9650d31f"
   },
   "outputs": [],
   "source": [
    "num=[0,1,2,3,4,5,6]\n",
    "\n",
    "for i in range(7):\n",
    "    sheet1.cell(i+1,3).value = num[i]\n",
    "    \n",
    "wb.save('fruit5.xlsx')"
   ]
  },
  {
   "cell_type": "markdown",
   "id": "a6e915d7",
   "metadata": {},
   "source": [
    "⑥ [심화] animal.xlsx 에는 빈 행들이 있습니다. 찾아서 행을 지우시오."
   ]
  },
  {
   "cell_type": "code",
   "execution_count": null,
   "id": "0c60a25f",
   "metadata": {},
   "outputs": [],
   "source": []
  }
 ],
 "metadata": {
  "colab": {
   "collapsed_sections": [],
   "name": "15과 [실습] 엑셀파일 다루기.ipynb",
   "provenance": []
  },
  "kernelspec": {
   "display_name": "Python 3",
   "language": "python",
   "name": "python3"
  },
  "language_info": {
   "codemirror_mode": {
    "name": "ipython",
    "version": 3
   },
   "file_extension": ".py",
   "mimetype": "text/x-python",
   "name": "python",
   "nbconvert_exporter": "python",
   "pygments_lexer": "ipython3",
   "version": "3.8.8"
  }
 },
 "nbformat": 4,
 "nbformat_minor": 5
}
