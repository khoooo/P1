{
 "cells": [
  {
   "cell_type": "markdown",
   "id": "103bbbb3",
   "metadata": {
    "id": "103bbbb3"
   },
   "source": [
    "# chapter 10. 함수 만들기"
   ]
  },
  {
   "cell_type": "markdown",
   "id": "e6062223",
   "metadata": {
    "id": "e6062223"
   },
   "source": [
    "## 1) 함수 만들기 - input"
   ]
  },
  {
   "cell_type": "markdown",
   "id": "DrMB54dXNx1Q",
   "metadata": {
    "id": "DrMB54dXNx1Q"
   },
   "source": [
    "① 함수 hello_world를 만들어 봅시다.\n",
    "* 이름 값을 받는 입력 매개변수 name(문자)\n",
    "* 'Hello '와 ' , welcome to Python World!' 사이에 name을 넣어 출력\n",
    "* (Hello name, welcome to Python World! 형태)\n",
    "* name에 값을 지정하여 함수의 결과를 확인하시오.\n",
    "\n",
    "        hello_world('Ann')\n",
    "        ------------------\n",
    "        Hello Ann, welcome to Python World!\n"
   ]
  },
  {
   "cell_type": "code",
   "execution_count": 66,
   "id": "03258b2e",
   "metadata": {
    "id": "03258b2e",
    "outputId": "4dd04c16-f56e-4f73-e86d-f4f246a03454"
   },
   "outputs": [
    {
     "name": "stdout",
     "output_type": "stream",
     "text": [
      "Hello choi, welcome to Python world!\n"
     ]
    }
   ],
   "source": [
    "def hello_world(name):\n",
    "    print('Hello '+name+', welcome to Python world!')\n",
    "    \n",
    "hello_world('choi')"
   ]
  },
  {
   "cell_type": "code",
   "execution_count": null,
   "id": "6a42a1c1",
   "metadata": {},
   "outputs": [],
   "source": []
  },
  {
   "cell_type": "code",
   "execution_count": null,
   "id": "663e93f5",
   "metadata": {},
   "outputs": [],
   "source": []
  },
  {
   "cell_type": "code",
   "execution_count": 67,
   "id": "6726ecc6",
   "metadata": {},
   "outputs": [
    {
     "name": "stdout",
     "output_type": "stream",
     "text": [
      "hello choi, welcome to Python World!\n"
     ]
    }
   ],
   "source": [
    "def hello_world(name):\n",
    "    print('hello ' +name+ ', welcome to Python World!')\n",
    "    \n",
    "hello_world('choi')"
   ]
  },
  {
   "cell_type": "markdown",
   "id": "UnSdqePHOEzC",
   "metadata": {
    "id": "UnSdqePHOEzC"
   },
   "source": [
    "② 함수 say_hey를 만들어 봅시다.\n",
    "* 횟수를 받는 입력 매개변수 count(숫자)\n",
    "* 입력받은 count만큼 'Hey! '를 출력\n",
    "* count에 값을 지정하여 함수의 결과를 확인하시오.\n",
    "\n",
    "        say_hey(5)\n",
    "        -----------------------\n",
    "        Hey! Hey! Hey! Hey! Hey! "
   ]
  },
  {
   "cell_type": "code",
   "execution_count": 69,
   "id": "4f8671c9",
   "metadata": {
    "id": "4f8671c9",
    "outputId": "866e2d3a-ca87-458b-d370-e0d3726edff2"
   },
   "outputs": [
    {
     "name": "stdout",
     "output_type": "stream",
     "text": [
      "Hey~ Hey~ Hey~ Hey~ Hey~ Hey~ \n"
     ]
    }
   ],
   "source": [
    "# count=int(input())\n",
    "\n",
    "def say_hey(a):\n",
    "    print('Hey~ '*a)\n",
    "    \n",
    "say_hey(6)"
   ]
  },
  {
   "cell_type": "code",
   "execution_count": null,
   "id": "f035ca40",
   "metadata": {},
   "outputs": [],
   "source": []
  },
  {
   "cell_type": "code",
   "execution_count": null,
   "id": "4ed3abe4",
   "metadata": {},
   "outputs": [],
   "source": []
  },
  {
   "cell_type": "code",
   "execution_count": null,
   "id": "7c90b4d9",
   "metadata": {},
   "outputs": [],
   "source": []
  },
  {
   "cell_type": "code",
   "execution_count": 10,
   "id": "50c31ec8",
   "metadata": {},
   "outputs": [
    {
     "name": "stdout",
     "output_type": "stream",
     "text": [
      "Hey!Hey!Hey!Hey!Hey!Hey!\n"
     ]
    }
   ],
   "source": [
    "def say_hey(nums):\n",
    "    print('Hey!'*nums)\n",
    "    \n",
    "say_hey(6)"
   ]
  },
  {
   "cell_type": "markdown",
   "id": "C7NOWcmUOgnR",
   "metadata": {
    "id": "C7NOWcmUOgnR"
   },
   "source": [
    "③ 함수 hello를 만들어 봅시다.\n",
    "* 이름 값을 받는 입력 매개변수 name(문자), 숫자를 받는 loud(숫자) (이때, loud = 1로 선언)\n",
    "* loud = 1일 때, 'HELLO '와  '!!!' 사이에 name(대문자)을 넣어 출력 \n",
    "* loud = 0이면, 'Hello '와 '.' 사이에 name(소문자)을 넣어 출력\n",
    "* name, loud에 값을 지정하여 함수의 결과를 확인하시오.\n",
    "* name에만 값을 지정하여 함수의 결과를 확인하시오.\n",
    "\n",
    "        hello(name = 'Kim', loud = 0)\n",
    "        hello(name = 'Kim')\n",
    "        -----------------------\n",
    "        Hello kim.\n",
    "        HELLO KIM!!"
   ]
  },
  {
   "cell_type": "code",
   "execution_count": 78,
   "id": "5b2e5a09",
   "metadata": {},
   "outputs": [
    {
     "name": "stdout",
     "output_type": "stream",
     "text": [
      "hello, choi...\n",
      "HELLO, CHOI!!!\n"
     ]
    }
   ],
   "source": [
    "def hello(name, loud=1):\n",
    "    if loud == 1:\n",
    "        print('HELLO, '+name.upper()+'!!!')\n",
    "    elif loud == 0:\n",
    "        print('hello, '+name.lower()+'...')\n",
    "        \n",
    "hello('choi',0)\n",
    "hello('choi',1)"
   ]
  },
  {
   "cell_type": "code",
   "execution_count": null,
   "id": "b3ff34a2",
   "metadata": {},
   "outputs": [],
   "source": []
  },
  {
   "cell_type": "code",
   "execution_count": null,
   "id": "16bb2c46",
   "metadata": {},
   "outputs": [],
   "source": []
  },
  {
   "cell_type": "code",
   "execution_count": 20,
   "id": "7ace83b7",
   "metadata": {},
   "outputs": [
    {
     "name": "stdout",
     "output_type": "stream",
     "text": [
      "hello, choi\n",
      "None\n"
     ]
    }
   ],
   "source": [
    "def Hello(name, loud=1):\n",
    "    if loud==1:\n",
    "        print('HELLO, ' +name.upper())\n",
    "    else :\n",
    "        print('hello, ' +name.lower())\n",
    "        \n",
    "print(Hello('choi', 0))\n",
    "# print(Hello('choi'))"
   ]
  },
  {
   "cell_type": "markdown",
   "id": "Xr7VqAjGPxTz",
   "metadata": {
    "id": "Xr7VqAjGPxTz"
   },
   "source": [
    "④ 함수 add를 만들어 봅시다.\n",
    "* 계산할 숫자들을 받는 입력 매개변수 a(숫자), b(숫자)\n",
    "* a와 b의 합을 변수 sum에 저장\n",
    "* '덧셈 결과는' 뒤에 sum의 값을 넣어서 출력 (덧셈 결과는 sum 형태)\n",
    "* a, b에 값을 지정하여 함수의 결과를 확인하시오.\n",
    "\n",
    "        add(7, 2)\n",
    "        ------------\n",
    "        덧셈 결과는 9"
   ]
  },
  {
   "cell_type": "code",
   "execution_count": 82,
   "id": "1dafbd7a",
   "metadata": {
    "id": "1dafbd7a",
    "outputId": "15555ade-66cb-45ab-92b5-c9507b91da85"
   },
   "outputs": [
    {
     "name": "stdout",
     "output_type": "stream",
     "text": [
      "7\n"
     ]
    }
   ],
   "source": [
    "def add(a,b):\n",
    "    c = a+b\n",
    "    print(c)\n",
    "    \n",
    "add(3,4)"
   ]
  },
  {
   "cell_type": "code",
   "execution_count": null,
   "id": "573e245f",
   "metadata": {},
   "outputs": [],
   "source": []
  },
  {
   "cell_type": "code",
   "execution_count": null,
   "id": "2e2e2323",
   "metadata": {},
   "outputs": [],
   "source": []
  },
  {
   "cell_type": "code",
   "execution_count": 21,
   "id": "78191147",
   "metadata": {},
   "outputs": [
    {
     "name": "stdout",
     "output_type": "stream",
     "text": [
      "덧셈 결과는  9\n"
     ]
    }
   ],
   "source": [
    "def add(a,b) :\n",
    "    print('덧셈 결과는 ', a+b)\n",
    "    \n",
    "add(4,5)"
   ]
  },
  {
   "cell_type": "markdown",
   "id": "bt1RhktFQAJU",
   "metadata": {
    "id": "bt1RhktFQAJU"
   },
   "source": [
    "⑤ 함수 numbers를 만들어 봅시다.\n",
    "* 출력할 숫자들을 받는 입력 매개변수 nums(숫자)는 입력 값의 수를 정하지 않고 들어오는 대로 받음\n",
    "* 입력받은 숫자들을 출력\n",
    "* nums에 값을 지정하여 함수의 결과를 확인하시오.\n",
    "* 힌트 : 입력받을 매개변수의 수를 지정하지 않고 사용하려면 *nums\n",
    "\n",
    "        numbers(2, 4, 6, 8, 10)\n",
    "        ---------------------\n",
    "        (2, 4, 6, 8, 10)"
   ]
  },
  {
   "cell_type": "code",
   "execution_count": 22,
   "id": "e291a8df",
   "metadata": {
    "id": "e291a8df",
    "outputId": "8d6569c8-375c-416d-eecf-be51cf34a308"
   },
   "outputs": [
    {
     "name": "stdout",
     "output_type": "stream",
     "text": [
      "(2, 4, 6, 8)\n"
     ]
    }
   ],
   "source": [
    "def numbers(*nums):\n",
    "    print(nums)\n",
    "    \n",
    "numbers(2,4,6,8)"
   ]
  },
  {
   "cell_type": "code",
   "execution_count": null,
   "id": "28d169ed",
   "metadata": {},
   "outputs": [],
   "source": []
  },
  {
   "cell_type": "code",
   "execution_count": null,
   "id": "54bc83c3",
   "metadata": {},
   "outputs": [],
   "source": []
  },
  {
   "cell_type": "code",
   "execution_count": null,
   "id": "3ea77fc6",
   "metadata": {},
   "outputs": [],
   "source": []
  },
  {
   "cell_type": "markdown",
   "id": "07ahmEZaQVwP",
   "metadata": {
    "id": "07ahmEZaQVwP"
   },
   "source": [
    "⑥ 함수 average를 만들어 봅시다.\n",
    "* 평균을 구할 수들을 받는 입력 매개변수 nums(숫자)는 입력 값의 수를 정하지 않고 들어오는 대로 받음\n",
    "* 입력받은 숫자들의 평균을 변수 avg에 저장하여 출력\n",
    "* nums에 값을 지정하여 함수의 결과를 확인하시오.\n",
    "\n",
    "        average(2, 4, 6, 8, 10)\n",
    "        ------------------------\n",
    "        6.0"
   ]
  },
  {
   "cell_type": "code",
   "execution_count": 84,
   "id": "45dc4e27",
   "metadata": {
    "id": "45dc4e27",
    "outputId": "c761db13-2405-4a9a-f935-e14548752111"
   },
   "outputs": [
    {
     "name": "stdout",
     "output_type": "stream",
     "text": [
      "6.0\n"
     ]
    }
   ],
   "source": [
    "def average(*nums):\n",
    "    aver=sum(nums)/len(nums)\n",
    "    print(aver)\n",
    "    \n",
    "average(2,4,6,8,10)"
   ]
  },
  {
   "cell_type": "code",
   "execution_count": null,
   "id": "65adec1a",
   "metadata": {},
   "outputs": [],
   "source": []
  },
  {
   "cell_type": "code",
   "execution_count": null,
   "id": "1cbf13f2",
   "metadata": {},
   "outputs": [],
   "source": []
  },
  {
   "cell_type": "code",
   "execution_count": 24,
   "id": "78a323c8",
   "metadata": {},
   "outputs": [
    {
     "name": "stdout",
     "output_type": "stream",
     "text": [
      "4.0\n"
     ]
    }
   ],
   "source": [
    "def average(*nums):\n",
    "    t=sum(nums)/len(nums)\n",
    "    print(t)\n",
    "    \n",
    "average(2,4,6)"
   ]
  },
  {
   "cell_type": "markdown",
   "id": "237600a1",
   "metadata": {
    "id": "237600a1"
   },
   "source": [
    "## 2) 함수 만들기 - output"
   ]
  },
  {
   "cell_type": "markdown",
   "id": "XfEBpAHmQrn8",
   "metadata": {
    "id": "XfEBpAHmQrn8"
   },
   "source": [
    "① 함수 calculate1을 만들어 봅시다.\n",
    "* 입력 매개변수 : 숫자1, 숫자2, 사칙연산 부호(+,-,*,/)\n",
    "* 숫자1과 숫자2 사이에 사칙연산자 부호에 해당하는 연산을 수행후\n",
    "* 결과를 print로 출력합시다.\n",
    "\n",
    "        calculate1(11, 2, '*')\n",
    "        ---------------\n",
    "        22"
   ]
  },
  {
   "cell_type": "code",
   "execution_count": 24,
   "id": "131c774c",
   "metadata": {
    "id": "131c774c",
    "outputId": "ef72e90c-d0a9-4742-a5b6-98c1a611a123"
   },
   "outputs": [
    {
     "name": "stdout",
     "output_type": "stream",
     "text": [
      "12\n"
     ]
    }
   ],
   "source": [
    "def calculate1(n1,n2,op):\n",
    "    if op == '+':\n",
    "        result=n1+n2\n",
    "    elif op == '-':\n",
    "        result=n1-n2\n",
    "    elif op == '*':\n",
    "        result=n1*n2\n",
    "    elif op == '/':\n",
    "        result=n1/n2\n",
    "    print(result)\n",
    "\n",
    "calculate1(3,4,'*')"
   ]
  },
  {
   "cell_type": "code",
   "execution_count": null,
   "id": "93201006",
   "metadata": {},
   "outputs": [],
   "source": []
  },
  {
   "cell_type": "code",
   "execution_count": null,
   "id": "806e9ea2",
   "metadata": {},
   "outputs": [],
   "source": []
  },
  {
   "cell_type": "code",
   "execution_count": 29,
   "id": "7d7f4683",
   "metadata": {},
   "outputs": [
    {
     "name": "stdout",
     "output_type": "stream",
     "text": [
      "20.0\n"
     ]
    }
   ],
   "source": [
    "def calculate1(a,b,c):\n",
    "    if c == '+':\n",
    "        print(a+b)\n",
    "    elif c == '-':\n",
    "        print(a-b)\n",
    "    elif c == '*':\n",
    "        print(a*b)\n",
    "    else :\n",
    "        print(a/b)\n",
    "        \n",
    "\n",
    "calculate1(60,3,'/')    "
   ]
  },
  {
   "cell_type": "markdown",
   "id": "N_u9HkQ_Rv3u",
   "metadata": {
    "id": "N_u9HkQ_Rv3u"
   },
   "source": [
    "② 위에서 만든 calcuate1의 결과를 변수 c로 저장해 봅시다.  \n",
    "* 그런 다음 c를 출력해 봅시다.\n",
    "* 결과가 담기나요?\n",
    "\n"
   ]
  },
  {
   "cell_type": "code",
   "execution_count": 26,
   "id": "cpcHEjIJR-GU",
   "metadata": {
    "id": "cpcHEjIJR-GU",
    "outputId": "f0bb1624-a120-485a-a62e-5adfd7b52f99"
   },
   "outputs": [
    {
     "name": "stdout",
     "output_type": "stream",
     "text": [
      "12\n",
      "None\n"
     ]
    }
   ],
   "source": [
    "c=calculate1(3,4,'*')\n",
    "print(c)"
   ]
  },
  {
   "cell_type": "code",
   "execution_count": null,
   "id": "1f7825c9",
   "metadata": {},
   "outputs": [],
   "source": []
  },
  {
   "cell_type": "code",
   "execution_count": null,
   "id": "14b3fcd1",
   "metadata": {},
   "outputs": [],
   "source": []
  },
  {
   "cell_type": "code",
   "execution_count": 30,
   "id": "832f9b41",
   "metadata": {},
   "outputs": [
    {
     "name": "stdout",
     "output_type": "stream",
     "text": [
      "15\n",
      "None\n"
     ]
    }
   ],
   "source": [
    "c1=calculate1(3,5,'*')\n",
    "print(c1)"
   ]
  },
  {
   "cell_type": "markdown",
   "id": "Tpb7ryuDSDAJ",
   "metadata": {
    "id": "Tpb7ryuDSDAJ"
   },
   "source": [
    "③ 위에서 만든 calcuate1의 결과를 변수 c로 저장하기 위해서\n",
    "* 결과를 반환하도록 코드를 수정하세요.\n",
    "* 힌트 : return\n",
    "* 이제 다시 결과를 c로 저장하고 출력합시다.\n",
    "* 결과가 담기나요?"
   ]
  },
  {
   "cell_type": "code",
   "execution_count": 87,
   "id": "e5036b57",
   "metadata": {
    "id": "e5036b57",
    "outputId": "20118281-0497-41e0-8842-6952143179e4",
    "scrolled": true
   },
   "outputs": [
    {
     "name": "stdout",
     "output_type": "stream",
     "text": [
      "56\n"
     ]
    }
   ],
   "source": [
    "def calculate1(a,b,c):\n",
    "    if c == '+':\n",
    "        d = a+b\n",
    "        print(d)\n",
    "    elif c == '-':\n",
    "        d = a-b\n",
    "        print(d)\n",
    "    elif c == '*':\n",
    "        d = a*b\n",
    "        print(d)\n",
    "    elif c == '/':\n",
    "        d = a/b\n",
    "        print(d)\n",
    "    return d\n",
    "\n",
    "c = calculate2(7,8,'*')\n",
    "print(c)"
   ]
  },
  {
   "cell_type": "code",
   "execution_count": null,
   "id": "232ad912",
   "metadata": {},
   "outputs": [],
   "source": []
  },
  {
   "cell_type": "code",
   "execution_count": null,
   "id": "64460954",
   "metadata": {},
   "outputs": [],
   "source": []
  },
  {
   "cell_type": "code",
   "execution_count": 33,
   "id": "b153f0d3",
   "metadata": {},
   "outputs": [
    {
     "name": "stdout",
     "output_type": "stream",
     "text": [
      "15\n",
      "None\n"
     ]
    }
   ],
   "source": [
    "def calculate2(a,b,c):\n",
    "    if c == '+':\n",
    "        c1 = a+b\n",
    "        print(c1)\n",
    "    elif c == '-':\n",
    "        c1 = a-b\n",
    "        print(c1)\n",
    "    elif c == '*':\n",
    "        c1=a*b\n",
    "        print(c1)\n",
    "    elif c == '/':\n",
    "        c1=a/b\n",
    "        print(c1)\n",
    "        return c1\n",
    "    \n",
    "d = calculate2(3,5,'*')\n",
    "print(d)"
   ]
  },
  {
   "cell_type": "code",
   "execution_count": 35,
   "id": "cc46bf22",
   "metadata": {},
   "outputs": [
    {
     "name": "stdout",
     "output_type": "stream",
     "text": [
      "15\n"
     ]
    }
   ],
   "source": [
    "def calculate2(a,b,c):\n",
    "    if c == '+':\n",
    "        c1 = a+b\n",
    "    elif c == '-':\n",
    "        c1 = a-b\n",
    "    elif c == '*':\n",
    "        c1=a*b\n",
    "    elif c == '/':\n",
    "        c1=a/b\n",
    "        \n",
    "    return c1   # 전체 def 에 대한 리턴\n",
    "    \n",
    "d = calculate2(3,5,'*')\n",
    "print(d)"
   ]
  },
  {
   "cell_type": "markdown",
   "id": "fE5tW_kUScog",
   "metadata": {
    "id": "fE5tW_kUScog"
   },
   "source": [
    "④ 함수 calculate2 를 생성합니다.\n",
    "* 숫자 두개를 받아서\n",
    "* 몫과 나머지를 계산하고\n",
    "* 두 결과를 반환해야 합니다.\n",
    "* 함수 실행 후 결과를 r1, r2에 저장한 후 출력합시다.\n",
    "\n",
    "        r1, r2 = calculate2(11, 2)\n",
    "        print(r1, r2)\n",
    "        ---------------------------\n",
    "        5  1"
   ]
  },
  {
   "cell_type": "code",
   "execution_count": 96,
   "id": "9aada59d",
   "metadata": {
    "id": "9aada59d",
    "outputId": "0bd24fc5-2bc5-4dd2-e395-c52b969a918a"
   },
   "outputs": [
    {
     "name": "stdout",
     "output_type": "stream",
     "text": [
      "몫 : 0\n",
      "나머지 : 3\n",
      "(0, 3)\n"
     ]
    }
   ],
   "source": [
    "def calculate2(a,b):\n",
    "    r1=a//b\n",
    "    r2=a%b\n",
    "    print('몫 :',r1)\n",
    "    print('나머지 :',r2)\n",
    "    \n",
    "    return r1, r2\n",
    "\n",
    "C = calculate2(3,4)\n",
    "print(C)"
   ]
  },
  {
   "cell_type": "code",
   "execution_count": null,
   "id": "1fd1e4f1",
   "metadata": {},
   "outputs": [],
   "source": []
  },
  {
   "cell_type": "code",
   "execution_count": 40,
   "id": "886cb958",
   "metadata": {},
   "outputs": [
    {
     "name": "stdout",
     "output_type": "stream",
     "text": [
      "몫 : 0\n",
      "나머지 : 3\n"
     ]
    }
   ],
   "source": [
    "def calculate3(a,b):\n",
    "    r1 = a//b\n",
    "    r2 = a%b\n",
    "    print('몫 :',r1)\n",
    "    print('나머지 :', r2)\n",
    "\n",
    "calculate3(3,4)"
   ]
  },
  {
   "cell_type": "code",
   "execution_count": 41,
   "id": "7c4557a4",
   "metadata": {},
   "outputs": [
    {
     "data": {
      "text/plain": [
       "(0, 3)"
      ]
     },
     "execution_count": 41,
     "metadata": {},
     "output_type": "execute_result"
    }
   ],
   "source": [
    "def calculate3(a,b):\n",
    "    r1 = a//b\n",
    "    r2 = a%b\n",
    "    \n",
    "    return r1, r2\n",
    "\n",
    "calculate3(3,4)"
   ]
  },
  {
   "cell_type": "markdown",
   "id": "pXAtxJsYTVaP",
   "metadata": {
    "id": "pXAtxJsYTVaP"
   },
   "source": [
    "**⑤ [심화] 함수 even을 만들어 봅시다.**\n",
    "* 입력 매개변수로 리스트를 입력받아.\n",
    "* 입력받은 리스트의 값들 중 짝수로만 구성된 새로운 리스트 출력\n",
    "* 힌트: 함수 처리 코드 내 짝수를 저장할 빈 리스트 result 생성\n",
    "\n",
    "        even([2, 3, 6, 8, 11])\n",
    "        ------------------------\n",
    "        [2, 6, 8]"
   ]
  },
  {
   "cell_type": "code",
   "execution_count": 99,
   "id": "4d4b4ca4",
   "metadata": {
    "id": "4d4b4ca4",
    "outputId": "70741189-4d3e-489c-f3d9-76bb1e59dc94"
   },
   "outputs": [
    {
     "data": {
      "text/plain": [
       "[2, 4, 6]"
      ]
     },
     "execution_count": 99,
     "metadata": {},
     "output_type": "execute_result"
    }
   ],
   "source": [
    "def even(*nums):\n",
    "    a = []\n",
    "    for i in nums:\n",
    "        if i%2 == 0:\n",
    "            a.append(i)\n",
    "    \n",
    "    return a\n",
    "\n",
    "even(1,2,3,4,5,6)"
   ]
  },
  {
   "cell_type": "code",
   "execution_count": null,
   "id": "93c7ea7b",
   "metadata": {},
   "outputs": [],
   "source": []
  },
  {
   "cell_type": "code",
   "execution_count": null,
   "id": "20ce4599",
   "metadata": {},
   "outputs": [],
   "source": []
  },
  {
   "cell_type": "code",
   "execution_count": 54,
   "id": "c8c30794",
   "metadata": {},
   "outputs": [
    {
     "data": {
      "text/plain": [
       "[2, 4, 6]"
      ]
     },
     "execution_count": 54,
     "metadata": {},
     "output_type": "execute_result"
    }
   ],
   "source": [
    "def even(nums) :\n",
    "    a=[]\n",
    "    for i in nums:\n",
    "        if i%2 == 0:\n",
    "            a.append(i)\n",
    "            \n",
    "    return a\n",
    "\n",
    "even([1,2,3,4,5,6])"
   ]
  },
  {
   "cell_type": "code",
   "execution_count": 70,
   "id": "37f5c1dd",
   "metadata": {},
   "outputs": [
    {
     "data": {
      "text/plain": [
       "[2, 4]"
      ]
     },
     "execution_count": 70,
     "metadata": {},
     "output_type": "execute_result"
    }
   ],
   "source": [
    "def even(*num_list):\n",
    "    result=[]\n",
    "    for i in num_list:         # 튜플 상태\n",
    "        if i%2 == 0:\n",
    "            result.append(i)\n",
    "    return result\n",
    "\n",
    "even(1,2,3,4,5)"
   ]
  },
  {
   "cell_type": "code",
   "execution_count": null,
   "id": "4a6f00ae",
   "metadata": {},
   "outputs": [],
   "source": []
  },
  {
   "cell_type": "code",
   "execution_count": null,
   "id": "af1d5ba4",
   "metadata": {},
   "outputs": [],
   "source": []
  },
  {
   "cell_type": "markdown",
   "id": "M1-Js-EZT8cn",
   "metadata": {
    "id": "M1-Js-EZT8cn"
   },
   "source": [
    "⑥ [심화] 복리 계산기 함수 interest를 만들어 봅시다.\n",
    "* 입력변수 : 예금액, 이자, 연수\n",
    "* 결과 : 복리로 불어난 예금액\n",
    "\n",
    "        result = interest(120000, 0.05, 5)\n",
    "        print(result)\n",
    "        --------------------------\n",
    "        145860.75"
   ]
  },
  {
   "cell_type": "code",
   "execution_count": 52,
   "id": "01fac884",
   "metadata": {
    "id": "01fac884",
    "outputId": "1f4568e2-82c2-42f0-a913-4795ae1d0550"
   },
   "outputs": [
    {
     "name": "stdout",
     "output_type": "stream",
     "text": [
      "126000.0\n",
      "132300.0\n",
      "138915.0\n",
      "145860.75\n"
     ]
    },
    {
     "data": {
      "text/plain": [
       "145860.75"
      ]
     },
     "execution_count": 52,
     "metadata": {},
     "output_type": "execute_result"
    }
   ],
   "source": [
    "def  interest(a,b,c):\n",
    "    d = a\n",
    "    for i in range(1, c) :\n",
    "        d *= (1+b)\n",
    "        print(d)\n",
    "    return d\n",
    "\n",
    "interest(120000, 0.05, 5)"
   ]
  },
  {
   "cell_type": "markdown",
   "id": "1036835d",
   "metadata": {
    "id": "1036835d"
   },
   "source": [
    "## 3) 함수 만들기 - 예외처리"
   ]
  },
  {
   "cell_type": "markdown",
   "id": "XHTKqkcqiJ4g",
   "metadata": {
    "id": "XHTKqkcqiJ4g"
   },
   "source": [
    "① 함수 divide를 만들어 봅시다.  \n",
    "* 입력변수 : num1, num2\n",
    "* 처리 : num1 / num2\n",
    "* 결과 : 나눈 결과를 반환\n",
    "\n",
    "* 함수를 만들고 숫자 두개를 넣고 결과를 확인해 봅시다.\n"
   ]
  },
  {
   "cell_type": "code",
   "execution_count": 48,
   "id": "e72c0041",
   "metadata": {
    "id": "e72c0041",
    "outputId": "aabaedad-adf9-4446-ac7e-9ca85027bceb"
   },
   "outputs": [
    {
     "data": {
      "text/plain": [
       "5.0"
      ]
     },
     "execution_count": 48,
     "metadata": {},
     "output_type": "execute_result"
    }
   ],
   "source": [
    "def divide(num1, num2):\n",
    "    a=num1/num2\n",
    "    return a\n",
    "\n",
    "divide(10,2)"
   ]
  },
  {
   "cell_type": "code",
   "execution_count": null,
   "id": "b83e5978",
   "metadata": {},
   "outputs": [],
   "source": []
  },
  {
   "cell_type": "code",
   "execution_count": null,
   "id": "48579894",
   "metadata": {},
   "outputs": [],
   "source": []
  },
  {
   "cell_type": "code",
   "execution_count": 56,
   "id": "745dc976",
   "metadata": {},
   "outputs": [
    {
     "name": "stdout",
     "output_type": "stream",
     "text": [
      "0.75\n"
     ]
    }
   ],
   "source": [
    "def divide(a,b):\n",
    "    c = a/b\n",
    "    return c\n",
    "\n",
    "print(divide(3,4))"
   ]
  },
  {
   "cell_type": "markdown",
   "id": "8By6VzDOiiyH",
   "metadata": {
    "id": "8By6VzDOiiyH"
   },
   "source": [
    "② 위 문제에서 만약 num2 에 0을 넣으면 오류가 발생합니다.\n",
    "* ZeroDivisionError: division by zero \n",
    "* 이를 해결하기 위해 오류 처리 코드를 넣어 봅시다.\n",
    "* num2에 0이 들어오면, \"0으로 나눌 수 없습니다.\" 라고 출력하고,\n",
    "* num2에 다른 숫자가 들어오면, 나눈 결과를 반환하시오.\n",
    "\n",
    "        divide(10, 0)\n",
    "        ----------------\n",
    "        0으로 나눌 수 없습니다."
   ]
  },
  {
   "cell_type": "code",
   "execution_count": 86,
   "id": "c51d3b4f",
   "metadata": {
    "id": "c51d3b4f",
    "outputId": "0295961a-aa8e-4bc5-ae1f-dddd501364e4"
   },
   "outputs": [
    {
     "data": {
      "text/plain": [
       "25.0"
      ]
     },
     "execution_count": 86,
     "metadata": {},
     "output_type": "execute_result"
    }
   ],
   "source": [
    "def divide1(n1, n2):\n",
    "    if n2 == 0:\n",
    "        print('0으로 나눌 수 없습니다.')\n",
    "    else:\n",
    "        r=n1/n2\n",
    "        return r\n",
    "\n",
    "divide1(100,4)"
   ]
  },
  {
   "cell_type": "code",
   "execution_count": null,
   "id": "fc6b2ede",
   "metadata": {},
   "outputs": [],
   "source": []
  },
  {
   "cell_type": "code",
   "execution_count": null,
   "id": "9d917787",
   "metadata": {},
   "outputs": [],
   "source": []
  },
  {
   "cell_type": "code",
   "execution_count": 61,
   "id": "9e23a30c",
   "metadata": {},
   "outputs": [
    {
     "name": "stdout",
     "output_type": "stream",
     "text": [
      "분모에 0이 들어갈 수 없습니다.\n",
      "None\n"
     ]
    }
   ],
   "source": [
    "def divide(a,b):\n",
    "    if b == 0:\n",
    "        print('분모에 0이 들어갈 수 없습니다.')\n",
    "    else :\n",
    "        c=a/b\n",
    "        return c\n",
    "\n",
    "print(divide(100,0))"
   ]
  },
  {
   "cell_type": "markdown",
   "id": "ZPnsCQSwjgmt",
   "metadata": {
    "id": "ZPnsCQSwjgmt"
   },
   "source": [
    "③ 위 결과에 이어서, num1, num2 모두 int 인지 확인하는 코드도 작성합시다.\n",
    "* 힌트 : 정수인지 확인 num1 is int\n",
    "\n",
    "        divide(10, 'a')\n",
    "        ----------------------\n",
    "        입력값이 모두 숫자여야 합니다."
   ]
  },
  {
   "cell_type": "code",
   "execution_count": 108,
   "id": "c03db780",
   "metadata": {
    "id": "c03db780",
    "outputId": "78853b25-807a-405b-eabc-cf2473a6f7f7"
   },
   "outputs": [
    {
     "name": "stdout",
     "output_type": "stream",
     "text": [
      "숫자만 가능합니다.\n",
      "분모는 0이 될 수 없습니다.\n",
      "0.75\n",
      "2.0\n",
      "None\n",
      "None\n"
     ]
    }
   ],
   "source": [
    "def divide(a,b):\n",
    "    if b == 0:\n",
    "        print('분모는 0이 될 수 없습니다.')\n",
    "    elif type(a) != int or type(b) != int:\n",
    "        print('숫자만 가능합니다.')\n",
    "    else :\n",
    "        c = a/b\n",
    "        return c\n",
    "    \n",
    "A=divide(3,4)\n",
    "B=divide(12,6)\n",
    "C=divide(12,'4')\n",
    "D=divide(12,0)\n",
    "\n",
    "print(A)\n",
    "print(B)\n",
    "print(C)\n",
    "print(D)"
   ]
  },
  {
   "cell_type": "code",
   "execution_count": null,
   "id": "a95b13d7",
   "metadata": {},
   "outputs": [],
   "source": []
  },
  {
   "cell_type": "code",
   "execution_count": null,
   "id": "53478a05",
   "metadata": {},
   "outputs": [],
   "source": []
  },
  {
   "cell_type": "code",
   "execution_count": 65,
   "id": "75afbb30",
   "metadata": {},
   "outputs": [
    {
     "data": {
      "text/plain": [
       "4.166666666666667"
      ]
     },
     "execution_count": 65,
     "metadata": {},
     "output_type": "execute_result"
    }
   ],
   "source": [
    "def divide(a,b):\n",
    "    if b == 0:\n",
    "        print('분모에 0이 들어갈 수 없습니다.')\n",
    "    elif type(a) != int or type(b) != int :\n",
    "        print('숫자가 들어가야 합니다.')\n",
    "    else :\n",
    "        c = a/b\n",
    "        return c\n",
    "\n",
    "divide(100, 24)"
   ]
  },
  {
   "cell_type": "code",
   "execution_count": null,
   "id": "cdba375a",
   "metadata": {},
   "outputs": [],
   "source": []
  }
 ],
 "metadata": {
  "colab": {
   "collapsed_sections": [],
   "name": "10과 [실습] 함수 만들기.ipynb",
   "provenance": [],
   "toc_visible": true
  },
  "kernelspec": {
   "display_name": "Python 3",
   "language": "python",
   "name": "python3"
  },
  "language_info": {
   "codemirror_mode": {
    "name": "ipython",
    "version": 3
   },
   "file_extension": ".py",
   "mimetype": "text/x-python",
   "name": "python",
   "nbconvert_exporter": "python",
   "pygments_lexer": "ipython3",
   "version": "3.8.8"
  }
 },
 "nbformat": 4,
 "nbformat_minor": 5
}
