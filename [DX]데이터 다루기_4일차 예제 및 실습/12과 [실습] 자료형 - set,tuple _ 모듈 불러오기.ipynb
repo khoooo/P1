{
 "cells": [
  {
   "cell_type": "markdown",
   "id": "b67d21db",
   "metadata": {
    "id": "334d0a98"
   },
   "source": [
    "# chapter 12. 자료형 - set, tuple & 모듈 불러오기"
   ]
  },
  {
   "cell_type": "markdown",
   "id": "d0c701f9",
   "metadata": {
    "id": "65384371"
   },
   "source": [
    "## 1) 자료형 - set"
   ]
  },
  {
   "cell_type": "markdown",
   "id": "f85eb093",
   "metadata": {
    "id": "phQwHB-c1F_f"
   },
   "source": [
    "① 1, 2, 3, 4로 구성된 집합 set1을 만들어 출력하고 자료형을 확인해보시오.  \n",
    "* 힌트: type(집합)"
   ]
  },
  {
   "cell_type": "code",
   "execution_count": 2,
   "id": "315e172d",
   "metadata": {
    "id": "f7f390f7"
   },
   "outputs": [
    {
     "name": "stdout",
     "output_type": "stream",
     "text": [
      "<class 'set'>\n",
      "{1, 2, 3, 4}\n"
     ]
    }
   ],
   "source": [
    "set1 = {1,2,3,4}\n",
    "print(type(set1))\n",
    "print(set1)"
   ]
  },
  {
   "cell_type": "code",
   "execution_count": 59,
   "id": "e2f793b4",
   "metadata": {},
   "outputs": [
    {
     "name": "stdout",
     "output_type": "stream",
     "text": [
      "<class 'set'>\n",
      "{1, 2, 3, 4}\n"
     ]
    }
   ],
   "source": [
    "set1={1,2,3,4}\n",
    "print(type(set1))\n",
    "print(set1)"
   ]
  },
  {
   "cell_type": "markdown",
   "id": "f1848f11",
   "metadata": {
    "id": "R8qjqxx91K1L"
   },
   "source": [
    "② 위에서 생성한 set1에 새로운 값 5를 추가하고 결과를 확인한 뒤,  \n",
    "또 다시 새로운 값 3을 추가하고 결과를 확인하시오.  \n",
    "* 힌트: 집합.add(추가할 값)"
   ]
  },
  {
   "cell_type": "code",
   "execution_count": 3,
   "id": "a3cca9d1",
   "metadata": {
    "id": "9339877b"
   },
   "outputs": [
    {
     "name": "stdout",
     "output_type": "stream",
     "text": [
      "{1, 2, 3, 4, 5}\n",
      "{1, 2, 3, 4, 5}\n"
     ]
    }
   ],
   "source": [
    "set1.add(5)\n",
    "print(set1)\n",
    "set1.add(3)\n",
    "print(set1)"
   ]
  },
  {
   "cell_type": "code",
   "execution_count": 60,
   "id": "59a8d03c",
   "metadata": {},
   "outputs": [
    {
     "data": {
      "text/plain": [
       "{1, 2, 3, 4, 5}"
      ]
     },
     "execution_count": 60,
     "metadata": {},
     "output_type": "execute_result"
    }
   ],
   "source": [
    "set1.add(5)\n",
    "set1"
   ]
  },
  {
   "cell_type": "markdown",
   "id": "072255db",
   "metadata": {
    "id": "cphdmzBc1ShM"
   },
   "source": [
    "③ 'h', 'e', 'l', 'l', 'o'로 구성된 집합 set2을 만들어 출력하고 자료형을 확인해보시오.\n"
   ]
  },
  {
   "cell_type": "code",
   "execution_count": 2,
   "id": "6a080641",
   "metadata": {
    "id": "842c747a"
   },
   "outputs": [
    {
     "name": "stdout",
     "output_type": "stream",
     "text": [
      "{'l', 'e', 'h', 'o'}\n",
      "<class 'set'>\n"
     ]
    }
   ],
   "source": [
    "set2 = {'h','e','l','l','o'}\n",
    "print(set2)\n",
    "print(type(set2))"
   ]
  },
  {
   "cell_type": "markdown",
   "id": "3771b98c",
   "metadata": {
    "id": "JghQ4JUq1Vwh"
   },
   "source": [
    "④ 위에서 생성한 set2에 새로운 값 'w', 'o', 'r', 'l', 'd'를 추가하고 결과를 확인하시오."
   ]
  },
  {
   "cell_type": "code",
   "execution_count": 5,
   "id": "1ca2ea22",
   "metadata": {
    "id": "73e3d591"
   },
   "outputs": [
    {
     "name": "stdout",
     "output_type": "stream",
     "text": [
      "{'o', 'w', 'l', 'h', 'd', 'r', 'e'}\n"
     ]
    }
   ],
   "source": [
    "set2.add('w')\n",
    "set2.add('o')\n",
    "set2.add('r')\n",
    "set2.add('l')\n",
    "set2.add('d')\n",
    "print(set2)"
   ]
  },
  {
   "cell_type": "markdown",
   "id": "5aa0c2a2",
   "metadata": {
    "id": "9ca1d270"
   },
   "source": [
    "## 2) 자료형 - tuple"
   ]
  },
  {
   "cell_type": "markdown",
   "id": "ad48bafc",
   "metadata": {
    "id": "ZfGLIWb71YTz"
   },
   "source": [
    "① 23.5, 10.1로 구성된 튜플 t1과 1, 2, 3, 4, 5로 구성된 튜플 t2를 각각 만들어 출력하고 자료형을 확인하시오.  \n",
    "* 힌트: type(튜플)"
   ]
  },
  {
   "cell_type": "code",
   "execution_count": 46,
   "id": "85ca68c9",
   "metadata": {
    "id": "f778bb3a"
   },
   "outputs": [
    {
     "name": "stdout",
     "output_type": "stream",
     "text": [
      "(23.5, 10.1)\n",
      "<class 'tuple'>\n",
      "(1, 2, 3, 4, 5)\n",
      "<class 'tuple'>\n"
     ]
    }
   ],
   "source": [
    "t1=(23.5, 10.1)\n",
    "t2=(1,2,3,4,5)\n",
    "print(t1)\n",
    "print(type(t1))\n",
    "print(t2)\n",
    "print(type(t2))"
   ]
  },
  {
   "cell_type": "markdown",
   "id": "67c05c9e",
   "metadata": {
    "id": "uh23gQVb1jo_"
   },
   "source": [
    "② 1, 2, 3, 4, 5로 구성된 튜플 t2에서 인덱스를 사용하여 첫 번째 값과 세 번째 값을 조회하시오."
   ]
  },
  {
   "cell_type": "code",
   "execution_count": 47,
   "id": "4e7035d8",
   "metadata": {
    "id": "00beb53e"
   },
   "outputs": [
    {
     "name": "stdout",
     "output_type": "stream",
     "text": [
      "1\n",
      "3\n"
     ]
    }
   ],
   "source": [
    "print(t2[0])\n",
    "print(t2[2])"
   ]
  },
  {
   "cell_type": "code",
   "execution_count": 64,
   "id": "7838cfb2",
   "metadata": {},
   "outputs": [
    {
     "ename": "TypeError",
     "evalue": "'set' object is not subscriptable",
     "output_type": "error",
     "traceback": [
      "\u001b[1;31m---------------------------------------------------------------------------\u001b[0m",
      "\u001b[1;31mTypeError\u001b[0m                                 Traceback (most recent call last)",
      "\u001b[1;32m<ipython-input-64-1b42b97e340c>\u001b[0m in \u001b[0;36m<module>\u001b[1;34m\u001b[0m\n\u001b[0;32m      1\u001b[0m \u001b[0ma\u001b[0m\u001b[1;33m=\u001b[0m\u001b[1;33m{\u001b[0m\u001b[1;36m1\u001b[0m\u001b[1;33m,\u001b[0m\u001b[1;36m2\u001b[0m\u001b[1;33m,\u001b[0m\u001b[1;36m3\u001b[0m\u001b[1;33m}\u001b[0m\u001b[1;33m\u001b[0m\u001b[1;33m\u001b[0m\u001b[0m\n\u001b[1;32m----> 2\u001b[1;33m \u001b[0mprint\u001b[0m\u001b[1;33m(\u001b[0m\u001b[0ma\u001b[0m\u001b[1;33m[\u001b[0m\u001b[1;36m0\u001b[0m\u001b[1;33m]\u001b[0m\u001b[1;33m+\u001b[0m\u001b[0ma\u001b[0m\u001b[1;33m[\u001b[0m\u001b[1;36m1\u001b[0m\u001b[1;33m]\u001b[0m\u001b[1;33m)\u001b[0m\u001b[1;33m\u001b[0m\u001b[1;33m\u001b[0m\u001b[0m\n\u001b[0m",
      "\u001b[1;31mTypeError\u001b[0m: 'set' object is not subscriptable"
     ]
    }
   ],
   "source": [
    "a={1,2,3}\n",
    "print(a[0]+a[1])"
   ]
  },
  {
   "cell_type": "markdown",
   "id": "4d3124fc",
   "metadata": {
    "id": "cPHsFQtw1mXB"
   },
   "source": [
    "③ empty라는 이름으로 비어 있는 튜플을 만들고 튜플의 자료형을 확인하시오."
   ]
  },
  {
   "cell_type": "code",
   "execution_count": 48,
   "id": "4dc9b996",
   "metadata": {
    "id": "3458fe5b"
   },
   "outputs": [
    {
     "name": "stdout",
     "output_type": "stream",
     "text": [
      "<class 'tuple'>\n"
     ]
    }
   ],
   "source": [
    "empty = ()\n",
    "print(type(empty))"
   ]
  },
  {
   "cell_type": "markdown",
   "id": "0b07561b",
   "metadata": {
    "id": "GddN6l121oQY"
   },
   "source": [
    "④ 튜플 t3가 1, 3, 5, 7, 9로 구성되어 있다고 할 때, 인덱스를 사용하여 튜플의 세 번째부터 마지막 값을 출력하시오.\n"
   ]
  },
  {
   "cell_type": "code",
   "execution_count": 49,
   "id": "38719db2",
   "metadata": {
    "id": "bfa77ac2"
   },
   "outputs": [
    {
     "name": "stdout",
     "output_type": "stream",
     "text": [
      "(5, 7, 9)\n"
     ]
    }
   ],
   "source": [
    "t3 = (1,3,5,7,9)\n",
    "print(t3[2:])"
   ]
  },
  {
   "cell_type": "markdown",
   "id": "1bef4d36",
   "metadata": {
    "id": "0a098884"
   },
   "source": [
    "## 3) 라이브러리(패키지), 모듈, 함수"
   ]
  },
  {
   "cell_type": "markdown",
   "id": "dc7a3e01",
   "metadata": {
    "id": "PDIOMJZM1rjF"
   },
   "source": [
    "① import로 math 라이브러리를 불러와 봅시다. 불러온 라이브러리를 활용하여 팩토리얼 계산을 해 봅시다.  \n",
    "팩토리얼 계산 함수는 n!을 계산할 때 factorial(n)이다. "
   ]
  },
  {
   "cell_type": "code",
   "execution_count": 50,
   "id": "a2b93bd3",
   "metadata": {
    "id": "80d31d90"
   },
   "outputs": [
    {
     "data": {
      "text/plain": [
       "24"
      ]
     },
     "execution_count": 50,
     "metadata": {},
     "output_type": "execute_result"
    }
   ],
   "source": [
    "import math as m\n",
    "m.factorial(4)"
   ]
  },
  {
   "cell_type": "markdown",
   "id": "7a29adc3",
   "metadata": {
    "id": "lgJOPUcg1vbA"
   },
   "source": [
    "② 이번에는 import로 불러온 라이브러리에 별칭을 붙여 봅시다.   \n",
    "math 라이브러리를 불러오며 m이라는 별칭을 붙여 주고,  \n",
    "팩토리얼 계산을 해 봅시다."
   ]
  },
  {
   "cell_type": "code",
   "execution_count": 65,
   "id": "7a93193a",
   "metadata": {
    "id": "250d3f9d"
   },
   "outputs": [
    {
     "data": {
      "text/plain": [
       "6"
      ]
     },
     "execution_count": 65,
     "metadata": {},
     "output_type": "execute_result"
    }
   ],
   "source": [
    "import math as m\n",
    "m.factorial(3)"
   ]
  },
  {
   "cell_type": "markdown",
   "id": "bb0cbafb",
   "metadata": {
    "id": "KN3iayTi10C6"
   },
   "source": [
    "③ 이번에는 math 라이브러리에서 factorial 함수만 불러와서 팩토리얼 계산을 해 봅시다."
   ]
  },
  {
   "cell_type": "code",
   "execution_count": 52,
   "id": "0381d3eb",
   "metadata": {
    "id": "77d10052"
   },
   "outputs": [
    {
     "data": {
      "text/plain": [
       "24"
      ]
     },
     "execution_count": 52,
     "metadata": {},
     "output_type": "execute_result"
    }
   ],
   "source": [
    "from math import factorial\n",
    "factorial(4)"
   ]
  },
  {
   "cell_type": "markdown",
   "id": "a87e1966",
   "metadata": {
    "id": "KN3iayTi10C6"
   },
   "source": [
    "④ random 라이브러리 사용하기\n",
    "* random 라이브러리를 rd 별칭으로 불러옵시다.\n",
    "* randint 함수를 사용해 봅시다.\n",
    "    * randint(a,b) : a부터 b 사이의 임의의 숫자를 반환합니다."
   ]
  },
  {
   "cell_type": "code",
   "execution_count": 11,
   "id": "86e18ded",
   "metadata": {
    "id": "77d10052"
   },
   "outputs": [
    {
     "data": {
      "text/plain": [
       "6"
      ]
     },
     "execution_count": 11,
     "metadata": {},
     "output_type": "execute_result"
    }
   ],
   "source": [
    "import random as rd\n",
    "rd.randint(1,10)"
   ]
  },
  {
   "cell_type": "code",
   "execution_count": 70,
   "id": "d45b200a",
   "metadata": {},
   "outputs": [
    {
     "name": "stdout",
     "output_type": "stream",
     "text": [
      "3\n",
      "1\n",
      "4\n",
      "6\n",
      "3\n",
      "1\n"
     ]
    }
   ],
   "source": [
    "import random as rd\n",
    "for i in range(6):\n",
    "    i1 = rd.randint(1,6)\n",
    "    print(i1)"
   ]
  },
  {
   "cell_type": "markdown",
   "id": "66111bec",
   "metadata": {
    "id": "z4DCZDyu13kD"
   },
   "source": [
    "⑤ [심화] 주사위를 던져서 나온 숫자들의 총합을 구하는 코드를 작성해 봅시다.\n",
    "* 주사위를 던질 횟수를 받는 변수 count(숫자)\n",
    "* count 만큼 주사위를 던져서 나온 모든 숫자들의 합 구해 봅시다.\n",
    "* 주사위의 각 면에는 1 ~ 6까지의 눈이 새겨져 있고, 각 숫자는 무작위로 나옵니다.(randint 함수 사용)\n",
    "\n",
    "* 힌트 : 주사위를 던져 나온 수들을 리스트에 저장하고, sum 함수를 이용해 봅시다."
   ]
  },
  {
   "cell_type": "code",
   "execution_count": 45,
   "id": "0600a6a6",
   "metadata": {
    "id": "2558fc12"
   },
   "outputs": [
    {
     "name": "stdout",
     "output_type": "stream",
     "text": [
      "4\n",
      "1\n",
      "6\n",
      "총 합 : 11\n"
     ]
    }
   ],
   "source": [
    "# ju=rd.randint(1,6)\n",
    "count = 3\n",
    "a=0\n",
    "num=[]\n",
    "for i in range(count) :\n",
    "    n = rd.randint(1,6)\n",
    "    num.append(n)\n",
    "    print(n)\n",
    "    \n",
    "print('총 합 :',sum(num))"
   ]
  },
  {
   "cell_type": "code",
   "execution_count": 57,
   "id": "0d3bf1f0",
   "metadata": {},
   "outputs": [
    {
     "name": "stdout",
     "output_type": "stream",
     "text": [
      "3\n",
      "3\n",
      "3\n",
      "4\n",
      "3\n",
      "[3, 3, 3, 4, 3]\n",
      "총 합 : 16\n"
     ]
    }
   ],
   "source": [
    "count=rd.randint(3,5)\n",
    "num=[]\n",
    "\n",
    "for i in range(count):\n",
    "    n=rd.randint(1,6)\n",
    "    num.append(n)\n",
    "    print(n)\n",
    "\n",
    "print(num)\n",
    "print('총 합 :',sum(num))"
   ]
  },
  {
   "cell_type": "code",
   "execution_count": 86,
   "id": "5e1c7b1b",
   "metadata": {},
   "outputs": [
    {
     "name": "stdout",
     "output_type": "stream",
     "text": [
      "4\n",
      "1\n",
      "4\n",
      "5\n",
      "3\n",
      "4\n",
      "2\n",
      "1\n",
      "[4, 1, 4, 5, 3, 4, 2, 1]\n",
      "총 합 : 24\n"
     ]
    }
   ],
   "source": [
    "count=rd.randint(5,10)\n",
    "num=[]\n",
    "\n",
    "for i in range(count):\n",
    "    n=rd.randint(1,6)\n",
    "    print(n)\n",
    "    num.append(n)\n",
    "\n",
    "print(num)\n",
    "print('총 합 :',sum(num))"
   ]
  },
  {
   "cell_type": "code",
   "execution_count": null,
   "id": "b479d320",
   "metadata": {},
   "outputs": [],
   "source": []
  },
  {
   "cell_type": "code",
   "execution_count": null,
   "id": "f9d76a60",
   "metadata": {},
   "outputs": [],
   "source": []
  },
  {
   "cell_type": "code",
   "execution_count": null,
   "id": "4dd2b52d",
   "metadata": {},
   "outputs": [],
   "source": []
  },
  {
   "cell_type": "code",
   "execution_count": null,
   "id": "e59bf415",
   "metadata": {},
   "outputs": [],
   "source": []
  },
  {
   "cell_type": "markdown",
   "id": "09ff19db",
   "metadata": {},
   "source": [
    "⑥ [심화] 주사위 두개를 한꺼번에 던져서 나온 두 숫자의 합을 구하고, 이를 여러번 시행했을 때의 평균 값을 구해 봅시다.\n",
    "\n",
    "* 주사위 2개를 던질 횟수 변수 count\n",
    "* 주사위의 각 면에는 1 ~ 6까지의 눈이 새겨져 있고, 각 숫자는 무작위로 나옵니다.(randint 함수 사용)\n",
    "* n번 시행후, 두 주사위 숫자 합의 평균을 구해 봅시다.\n",
    "\n",
    "* 힌트 : 두 주사위를 던져 나온 수의 합을 각각 리스트에 저장하고, sum 함수와 len 함수를 이용하여 평균을 구해 봅시다."
   ]
  },
  {
   "cell_type": "code",
   "execution_count": 90,
   "id": "433b1865",
   "metadata": {},
   "outputs": [
    {
     "name": "stdout",
     "output_type": "stream",
     "text": [
      "5\n",
      "1 3\n",
      "2 4\n",
      "1 2\n",
      "2 1\n",
      "3 5\n",
      "[1, 2, 1, 2, 3] [3, 4, 2, 1, 5]\n",
      "9 15\n",
      "1.8 3.0\n"
     ]
    }
   ],
   "source": [
    "count = int(input())\n",
    "a1=[]\n",
    "a2=[]\n",
    "\n",
    "for i in range(count):\n",
    "    n1=rd.randint(1,6)\n",
    "    n2=rd.randint(1,6)\n",
    "    a1.append(n1)\n",
    "    a2.append(n2)\n",
    "    print(n1, n2)\n",
    "\n",
    "print(a1, a2)\n",
    "print(sum(a1), sum(a2))\n",
    "print(sum(a1)/count, sum(a2)/count)\n"
   ]
  },
  {
   "cell_type": "code",
   "execution_count": null,
   "id": "7c8ee1ea",
   "metadata": {},
   "outputs": [],
   "source": []
  }
 ],
 "metadata": {
  "colab": {
   "collapsed_sections": [],
   "name": "12과 [실습] 자료형 - set,tuple & 모듈 불러오기.ipynb",
   "provenance": []
  },
  "kernelspec": {
   "display_name": "Python 3",
   "language": "python",
   "name": "python3"
  },
  "language_info": {
   "codemirror_mode": {
    "name": "ipython",
    "version": 3
   },
   "file_extension": ".py",
   "mimetype": "text/x-python",
   "name": "python",
   "nbconvert_exporter": "python",
   "pygments_lexer": "ipython3",
   "version": "3.8.8"
  }
 },
 "nbformat": 4,
 "nbformat_minor": 5
}
