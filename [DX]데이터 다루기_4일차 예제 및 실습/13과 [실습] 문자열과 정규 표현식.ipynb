{
 "cells": [
  {
   "cell_type": "markdown",
   "id": "ce594bfc",
   "metadata": {
    "id": "710ee378"
   },
   "source": [
    "# chapter 13. 문자열과 정규 표현식"
   ]
  },
  {
   "cell_type": "markdown",
   "id": "225bed46",
   "metadata": {
    "id": "a16b2654"
   },
   "source": [
    "## 1) 문자열 다루기 - 인덱스 조회"
   ]
  },
  {
   "cell_type": "markdown",
   "id": "199bc64f",
   "metadata": {
    "id": "120dd57b"
   },
   "source": [
    "① 변수 a에 \"문자열을 다뤄 봅시다.\"를 저장하고 인덱스를 사용해 두 번째 글자를 출력하시오."
   ]
  },
  {
   "cell_type": "code",
   "execution_count": 3,
   "id": "b6cbbb74",
   "metadata": {
    "id": "f250c4bc",
    "outputId": "cba73a19-793b-40cb-8b04-4961edc8eaf7"
   },
   "outputs": [
    {
     "name": "stdout",
     "output_type": "stream",
     "text": [
      "자\n"
     ]
    }
   ],
   "source": [
    "a='문자열을 다뤄 봅시다.'\n",
    "print(a[1])"
   ]
  },
  {
   "cell_type": "markdown",
   "id": "48822591",
   "metadata": {
    "id": "b6389c02"
   },
   "source": [
    "② 변수 a에 \"문자열을 다뤄 봅시다.\"를 저장하고 인덱스를 사용해 세 번째 글자부터 여섯 번째 글자까지 출력하시오."
   ]
  },
  {
   "cell_type": "code",
   "execution_count": 5,
   "id": "11cd00c1",
   "metadata": {
    "id": "0de9e3ec",
    "outputId": "e1e97de0-3157-4264-bd52-c96a5e45cc48"
   },
   "outputs": [
    {
     "data": {
      "text/plain": [
       "'열을 다뤄'"
      ]
     },
     "execution_count": 5,
     "metadata": {},
     "output_type": "execute_result"
    }
   ],
   "source": [
    "a[2:7]"
   ]
  },
  {
   "cell_type": "markdown",
   "id": "0c2c0270",
   "metadata": {
    "id": "592e1f28"
   },
   "source": [
    "③ 변수 a에 \"문자열을 다뤄 봅시다.\"를 저장하고 인덱스를 사용해 뒤에서 두 번째 글자를 출력하시오."
   ]
  },
  {
   "cell_type": "code",
   "execution_count": 6,
   "id": "19bd48d8",
   "metadata": {
    "id": "61fea94c",
    "outputId": "8fd7ee85-0dd0-4753-89bb-b5a86306528a"
   },
   "outputs": [
    {
     "data": {
      "text/plain": [
       "'다'"
      ]
     },
     "execution_count": 6,
     "metadata": {},
     "output_type": "execute_result"
    }
   ],
   "source": [
    "a[-2]"
   ]
  },
  {
   "cell_type": "markdown",
   "id": "4f62d0ac",
   "metadata": {
    "id": "b66431f2"
   },
   "source": [
    "④ 변수 a에 \"문자열을 다뤄 봅시다.\"를 저장하고 인덱스를 사용해 \"뤄 봅\"을 출력해 봅시다.\n",
    "* 인덱스를 앞에서 부터, 뒤에서부터(-) 둘다 시도해보세요.\n"
   ]
  },
  {
   "cell_type": "code",
   "execution_count": 11,
   "id": "b51c6d7e",
   "metadata": {
    "id": "4b079f6f",
    "outputId": "f8b9856e-6e43-4f36-c23b-9b8af65ddd58"
   },
   "outputs": [
    {
     "name": "stdout",
     "output_type": "stream",
     "text": [
      "뤄 봅\n",
      "뤄 봅\n"
     ]
    }
   ],
   "source": [
    "print(a[6:9])\n",
    "print(a[-6:-3])"
   ]
  },
  {
   "cell_type": "markdown",
   "id": "25e0f075",
   "metadata": {
    "id": "80bc6711"
   },
   "source": [
    "⑤ [심화] 변수 c에 \"계속해서 연습해 보겠습니다.\"를 저장하고 인덱스를 사용해 홀수 번째 글자들만 출력하시오.  \n",
    "* 리스트의 값들을 하나씩 불러오기 위해 for loop를 사용해 봅시다.  \n",
    "* 힌트: 문자열의 길이만큼 for loop를 돌려야 합니다. len(문자열) 사용  "
   ]
  },
  {
   "cell_type": "code",
   "execution_count": 13,
   "id": "57d6d523",
   "metadata": {
    "id": "6bb5e840",
    "outputId": "265726b4-c54a-43db-a166-8417bcc42212"
   },
   "outputs": [
    {
     "name": "stdout",
     "output_type": "stream",
     "text": [
      "계\n",
      "해\n",
      " \n",
      "습\n",
      " \n",
      "겠\n",
      "니\n",
      ".\n"
     ]
    }
   ],
   "source": [
    "c='계속해서 연습해 보겠습니다.'\n",
    "for i in range(len(c)):\n",
    "    if i%2 == 0:\n",
    "        print(c[i])"
   ]
  },
  {
   "cell_type": "markdown",
   "id": "78345e20",
   "metadata": {
    "id": "fa936313"
   },
   "source": [
    "## 2) 문자열 다루기 - in, not in"
   ]
  },
  {
   "cell_type": "markdown",
   "id": "730a73fb",
   "metadata": {
    "id": "e5b015c9"
   },
   "source": [
    "① 변수 a에 \"문자열을 다뤄 봅시다.\"를 저장하고 문자열에 '문'이라는 문자가 포함되어 있는지 확인하시오.\n",
    "* 힌트: 문자 in 문자열"
   ]
  },
  {
   "cell_type": "code",
   "execution_count": null,
   "id": "03342be5",
   "metadata": {
    "id": "8be0b61c",
    "outputId": "335a5e6e-3177-44e3-f0b8-f46ad511d6c0"
   },
   "outputs": [
    {
     "name": "stdout",
     "output_type": "stream",
     "text": [
      "True\n"
     ]
    }
   ],
   "source": []
  },
  {
   "cell_type": "markdown",
   "id": "ec937196",
   "metadata": {
    "id": "c55801f2"
   },
   "source": [
    "② 변수 a에 \"문자열을 다뤄 봅시다.\"를 저장하고 문자열에 '만'이라는 문자가 포함되어 있지 않은지 확인하시오.\n",
    "* 힌트: 문자 not in 문자열"
   ]
  },
  {
   "cell_type": "code",
   "execution_count": null,
   "id": "9150ec24",
   "metadata": {
    "id": "5128b300",
    "outputId": "95db4271-ccc9-481f-fd87-64e389e60de1"
   },
   "outputs": [
    {
     "name": "stdout",
     "output_type": "stream",
     "text": [
      "True\n"
     ]
    }
   ],
   "source": []
  },
  {
   "cell_type": "markdown",
   "id": "3d502f3c",
   "metadata": {
    "id": "4434107c"
   },
   "source": [
    "③ 변수 b에 \"파이썬 배울수록 재미있죠?\"를 저장하고 문자열에 '배'라는 문자가 포함되어 있는지 확인하시오."
   ]
  },
  {
   "cell_type": "code",
   "execution_count": 14,
   "id": "a7b2089e",
   "metadata": {
    "id": "f5596425",
    "outputId": "eed299d4-7a0d-4eb1-a733-076977bb8330"
   },
   "outputs": [
    {
     "name": "stdout",
     "output_type": "stream",
     "text": [
      "True\n"
     ]
    }
   ],
   "source": [
    "b='파이썬 배울수록 재미있죠?'\n",
    "print('배' in b)"
   ]
  },
  {
   "cell_type": "markdown",
   "id": "871f0109",
   "metadata": {
    "id": "a8eeee48"
   },
   "source": [
    "④ 변수 b에 \"파이썬 배울수록 재미있죠?\"를 저장하고 문자열에 '가'이라는 문자가 포함되어 있지 않은지 확인하시오."
   ]
  },
  {
   "cell_type": "code",
   "execution_count": 15,
   "id": "c46cd6cb",
   "metadata": {
    "id": "820a03c6",
    "outputId": "07c0ec87-de96-4f95-c911-64f8f0316346"
   },
   "outputs": [
    {
     "name": "stdout",
     "output_type": "stream",
     "text": [
      "True\n"
     ]
    }
   ],
   "source": [
    "print('가' not in b)"
   ]
  },
  {
   "cell_type": "markdown",
   "id": "bc3f99a1",
   "metadata": {
    "id": "d2d4b9cb"
   },
   "source": [
    "## 3) 문자열 다루기 - 문자열 안에 문자열 넣기"
   ]
  },
  {
   "cell_type": "markdown",
   "id": "39296524",
   "metadata": {
    "id": "55b1fdfe"
   },
   "source": [
    "① 변수 a에 {}를 넣은 문자열 \"이름 : {}, 나이 {}\"를 저장하고 .format()으로 여러분의 이름과 나이를 넣어 출력하시오."
   ]
  },
  {
   "cell_type": "code",
   "execution_count": 20,
   "id": "20ed51cf",
   "metadata": {
    "id": "e9a66c46",
    "outputId": "e1b1ca33-8c7b-470a-bd86-aeb7551c7354"
   },
   "outputs": [
    {
     "data": {
      "text/plain": [
       "'이름:홍길동, 나이:48'"
      ]
     },
     "execution_count": 20,
     "metadata": {},
     "output_type": "execute_result"
    }
   ],
   "source": [
    "a='이름:{}, 나이:{}'\n",
    "a.format('홍길동',48)"
   ]
  },
  {
   "cell_type": "code",
   "execution_count": 60,
   "id": "928fba74",
   "metadata": {},
   "outputs": [
    {
     "data": {
      "text/plain": [
       "'이름:홍길동, 나이:48'"
      ]
     },
     "execution_count": 60,
     "metadata": {},
     "output_type": "execute_result"
    }
   ],
   "source": [
    "a='이름:{}, 나이:{}'\n",
    "a.format('홍길동', 48)"
   ]
  },
  {
   "cell_type": "code",
   "execution_count": 62,
   "id": "b18f8c07",
   "metadata": {},
   "outputs": [
    {
     "name": "stdout",
     "output_type": "stream",
     "text": [
      "이름 : 홍길동, 나이 : 48\n"
     ]
    }
   ],
   "source": [
    "name='홍길동'\n",
    "age='48'\n",
    "print(f'이름 : {name}, 나이 : {age}')"
   ]
  },
  {
   "cell_type": "markdown",
   "id": "89bde640",
   "metadata": {
    "id": "4a9eb557"
   },
   "source": [
    "② 바깥에서 지정한 변수 값을 문자열 안에 넣어서 출력해 봅시다.\n",
    "* 변수 name에는 이름, age에는 나이 값을 저장하고\n",
    "* 변수 a에는 f\"문자열{변수}...\" 형태를 사용해 위와 동일한 결과가 나오도록 출력하시오."
   ]
  },
  {
   "cell_type": "code",
   "execution_count": 23,
   "id": "f03739a5",
   "metadata": {
    "id": "f784c90c",
    "outputId": "5bf130cf-5541-44ad-90b3-3ed914a93643"
   },
   "outputs": [
    {
     "data": {
      "text/plain": [
       "'이름:홍길동, 나이:48'"
      ]
     },
     "execution_count": 23,
     "metadata": {},
     "output_type": "execute_result"
    }
   ],
   "source": [
    "name='홍길동'\n",
    "age='48'\n",
    "a=f'이름:{name}, 나이:{age}'\n",
    "a"
   ]
  },
  {
   "cell_type": "markdown",
   "id": "feff41ee",
   "metadata": {
    "id": "d9b22a29"
   },
   "source": [
    "③ 딕셔너리로 부터 키와 값을 출력해 봅시다.\n",
    "* 딕셔너리 : '아메리카노' : 3500, '카페라떼':3800, '콜드브루':4000, '모카프라프치노':4500\n",
    "* for loop를 이용하여 딕셔너리의 모든 키와 값에 대해 아래 문장이 출력되도록 합시다.\n",
    "        \"아메리카노는 3500원 입니다.\"\n",
    "        \"카페라떼는 3800원 입니다.\"\n",
    "        \"콜드브루는 4000원 입니다.\"\n",
    "        \"모카프라프치노는 4500원 입니다.\"\n",
    "        \n",
    "* 힌트 : \"  {}   {} \", format을 이용하세요\n"
   ]
  },
  {
   "cell_type": "code",
   "execution_count": 30,
   "id": "4768fe05",
   "metadata": {
    "id": "f0f820d1",
    "outputId": "f45b6889-c05b-4d0e-8113-c9df1877258f"
   },
   "outputs": [
    {
     "name": "stdout",
     "output_type": "stream",
     "text": [
      "아메리카노는 3500원입니다.\n",
      "카페라떼는 3800원입니다.\n",
      "콜드브루는 4000원입니다.\n",
      "모카프라프치노는 4500원입니다.\n"
     ]
    }
   ],
   "source": [
    "a11={'아메리카노':3500, '카페라떼':3800, '콜드브루':4000, '모카프라프치노':4500}\n",
    "a1='{}는 {}원입니다.'\n",
    "\n",
    "for k,v in a11.items() :\n",
    "    print(a1.format(k,v))"
   ]
  },
  {
   "cell_type": "code",
   "execution_count": 59,
   "id": "e402228b",
   "metadata": {},
   "outputs": [
    {
     "name": "stdout",
     "output_type": "stream",
     "text": [
      "아메리카노는 3500원입니다.\n",
      "카페라떼는 3800원입니다.\n",
      "콜드브루는 4000원입니다.\n",
      "모카프라프치노는 4500원입니다.\n"
     ]
    }
   ],
   "source": [
    "a11={'아메리카노':3500, '카페라떼':3800, '콜드브루':4000, '모카프라프치노':4500}\n",
    "a1='{}는 {}원입니다.'\n",
    "\n",
    "for k,v in a11.items():\n",
    "    print(a1.format(k,v))"
   ]
  },
  {
   "cell_type": "code",
   "execution_count": null,
   "id": "34ac1dd8",
   "metadata": {},
   "outputs": [],
   "source": []
  },
  {
   "cell_type": "code",
   "execution_count": null,
   "id": "db340a59",
   "metadata": {},
   "outputs": [],
   "source": []
  },
  {
   "cell_type": "code",
   "execution_count": null,
   "id": "b4fb3602",
   "metadata": {},
   "outputs": [],
   "source": []
  },
  {
   "cell_type": "markdown",
   "id": "198ae1ab",
   "metadata": {
    "id": "09124153"
   },
   "source": [
    "## 4) 문자열 다루기 - 여러 줄 문자열"
   ]
  },
  {
   "cell_type": "markdown",
   "id": "dce65a09",
   "metadata": {
    "id": "086d175d"
   },
   "source": [
    "① 아래와 같은 결과가 나오도록 변수 a에 문자열을 저장하여 출력하시오.\n",
    "\n",
    "> 이름 : 홍길동  \n",
    "나이 : 48\n",
    "* 힌트: ''' '''를 사용해 봅시다."
   ]
  },
  {
   "cell_type": "code",
   "execution_count": 63,
   "id": "730ca8da",
   "metadata": {
    "id": "76dc675d",
    "outputId": "1605fd8b-a943-4a3d-b1b7-c62e36025803"
   },
   "outputs": [
    {
     "name": "stdout",
     "output_type": "stream",
     "text": [
      "이름:홍길동\n",
      "나이:48\n"
     ]
    }
   ],
   "source": [
    "a='''이름:홍길동\n",
    "나이:48'''\n",
    "print(a)"
   ]
  },
  {
   "cell_type": "markdown",
   "id": "024ffb8c",
   "metadata": {
    "id": "4d112f76"
   },
   "source": [
    "② 아래와 같은 결과가 나오도록 변수 b에 문자열을 저장하여 출력하시오.\n",
    ">[전화번호부]  \n",
    "ㄱㄱㄱ : 010-1234-5678  \n",
    "ㄴㄴㄴ : 010-2346-1578  \n",
    "ㄷㄷㄷ : 010-3458-6712  \n"
   ]
  },
  {
   "cell_type": "code",
   "execution_count": 33,
   "id": "aec22c76",
   "metadata": {
    "id": "f4ed0ea9",
    "outputId": "a8c38685-220d-4fbf-f6bd-96a839faf88e"
   },
   "outputs": [
    {
     "name": "stdout",
     "output_type": "stream",
     "text": [
      "[전화번호부]\n",
      "ㄱㄱㄱ:010-1234-5678\n",
      "ㄴㄴㄴ:010-2346-2343\n",
      "ㄷㄷㄷ:010-2351-2353\n"
     ]
    }
   ],
   "source": [
    "a='''[전화번호부]\n",
    "ㄱㄱㄱ:010-1234-5678\n",
    "ㄴㄴㄴ:010-2346-2343\n",
    "ㄷㄷㄷ:010-2351-2353'''\n",
    "print(a)"
   ]
  },
  {
   "cell_type": "markdown",
   "id": "e5ba2f46",
   "metadata": {
    "id": "3ca22029"
   },
   "source": [
    "## 5) 문자열 다루기 - 문자열을 다루는 메서드들"
   ]
  },
  {
   "cell_type": "markdown",
   "id": "113e5ca5",
   "metadata": {
    "id": "aa564101"
   },
   "source": [
    "① 변수 a에 \"I love you\"를 저장하고 모든 문자들을 대문자로 변환하여 출력하시오.\n",
    "* 힌트: 문자열.upper()"
   ]
  },
  {
   "cell_type": "code",
   "execution_count": 65,
   "id": "1b71a705",
   "metadata": {
    "id": "e264b89c",
    "outputId": "ca13cc3e-630f-44dd-8dac-06ef7e9c5f5e"
   },
   "outputs": [
    {
     "name": "stdout",
     "output_type": "stream",
     "text": [
      "I LOVE YOU\n"
     ]
    }
   ],
   "source": [
    "a='I love you'\n",
    "print(a.upper())"
   ]
  },
  {
   "cell_type": "markdown",
   "id": "20b65d7b",
   "metadata": {
    "id": "87c6fb5d"
   },
   "source": [
    "② 변수 b에 \"Life is a journey\"를 저장하고 모든 문자들을 대문자로 변환하여 출력하시오."
   ]
  },
  {
   "cell_type": "code",
   "execution_count": 66,
   "id": "88147827",
   "metadata": {
    "id": "ac7705de",
    "outputId": "e1305326-17cf-43f2-b320-e9803744be2f"
   },
   "outputs": [
    {
     "name": "stdout",
     "output_type": "stream",
     "text": [
      "LIFE IS A JOURNEY\n"
     ]
    }
   ],
   "source": [
    "b='Life is a journey'\n",
    "print(b.upper())"
   ]
  },
  {
   "cell_type": "markdown",
   "id": "be38b654",
   "metadata": {
    "id": "485fd5de"
   },
   "source": [
    "③ 변수 a에 \"I Love You\"를 저장하고 모든 문자들을 소문자로 변환하여 출력하시오.\n",
    "* 힌트: 문자열.lower()"
   ]
  },
  {
   "cell_type": "code",
   "execution_count": 67,
   "id": "8b096588",
   "metadata": {
    "id": "d63c2d46",
    "outputId": "58b795f1-6afd-442c-e9ab-4db30fa1c85e"
   },
   "outputs": [
    {
     "name": "stdout",
     "output_type": "stream",
     "text": [
      "i love you\n"
     ]
    }
   ],
   "source": [
    "print(a.lower())"
   ]
  },
  {
   "cell_type": "markdown",
   "id": "9812eec3",
   "metadata": {
    "id": "6aaf0852"
   },
   "source": [
    "④ 변수 b에 \"LIFE is a JOURNEY\"를 저장하고 모든 문자들을 소문자로 변환하여 출력하시오."
   ]
  },
  {
   "cell_type": "code",
   "execution_count": 34,
   "id": "9678854e",
   "metadata": {
    "id": "3cfc5d69",
    "outputId": "7ba6ae05-b67f-4515-ca65-886645fa40ec"
   },
   "outputs": [
    {
     "name": "stdout",
     "output_type": "stream",
     "text": [
      "life is a journey\n"
     ]
    }
   ],
   "source": [
    "b='LIFE is a JOURNEY'\n",
    "print(b.lower())"
   ]
  },
  {
   "cell_type": "markdown",
   "id": "821e30ab",
   "metadata": {
    "id": "d02eb93f"
   },
   "source": [
    "⑤ 변수 a에 \"i love you\"를 저장하고 첫 번째 문자만 대문자로 변환하여 출력하시오.\n",
    "* 힌트: 문자열.capitalize()"
   ]
  },
  {
   "cell_type": "code",
   "execution_count": 35,
   "id": "ff30544f",
   "metadata": {
    "id": "b8aa66e3",
    "outputId": "8ce693dc-49e8-418a-c30f-2f592427f284"
   },
   "outputs": [
    {
     "name": "stdout",
     "output_type": "stream",
     "text": [
      "I love you\n"
     ]
    }
   ],
   "source": [
    "a='i love you'\n",
    "print(a.capitalize())"
   ]
  },
  {
   "cell_type": "markdown",
   "id": "db1af395",
   "metadata": {
    "id": "b13fadc6"
   },
   "source": [
    "⑥ 리스트 a = ['사람', '코끼리', '낙타']일 때, 각각의 값 사이에 ', '이 들어가도록 a를 하나의 문자열로 결합하시오.\n",
    "* 힌트: 값 사이 들어갈 문자.join(리스트)"
   ]
  },
  {
   "cell_type": "code",
   "execution_count": 37,
   "id": "02009419",
   "metadata": {
    "id": "f6b4854c",
    "outputId": "e8507629-c16d-4c38-ffeb-7786c4192bf3"
   },
   "outputs": [
    {
     "name": "stdout",
     "output_type": "stream",
     "text": [
      "사람, 코끼리, 낙타\n"
     ]
    }
   ],
   "source": [
    "a=['사람', '코끼리', '낙타']\n",
    "print(', '.join(a))"
   ]
  },
  {
   "cell_type": "code",
   "execution_count": 72,
   "id": "f52c9131",
   "metadata": {},
   "outputs": [
    {
     "name": "stdout",
     "output_type": "stream",
     "text": [
      "사람, 코끼리, 낙타\n"
     ]
    }
   ],
   "source": [
    "a=['사람', '코끼리', '낙타']\n",
    "print(', '.join(a))"
   ]
  },
  {
   "cell_type": "code",
   "execution_count": null,
   "id": "2c91777d",
   "metadata": {},
   "outputs": [],
   "source": []
  },
  {
   "cell_type": "markdown",
   "id": "dbc1d46a",
   "metadata": {
    "id": "8e366d21"
   },
   "source": [
    "⑦  리스트 b = ['this', 'is', 'me']일 때, 각각의 값 사이에 '  '(한칸 공백) 이 들어가도록 b를 하나의 값으로 결합하시오."
   ]
  },
  {
   "cell_type": "code",
   "execution_count": 74,
   "id": "af87bd54",
   "metadata": {
    "id": "f93f337c",
    "outputId": "81d93ef0-f8b7-41aa-9b61-e1a1b88bc186"
   },
   "outputs": [
    {
     "data": {
      "text/plain": [
       "'this is me'"
      ]
     },
     "execution_count": 74,
     "metadata": {},
     "output_type": "execute_result"
    }
   ],
   "source": [
    "b=['this', 'is', 'me']\n",
    "' '.join(b)"
   ]
  },
  {
   "cell_type": "code",
   "execution_count": 77,
   "id": "7f281314",
   "metadata": {},
   "outputs": [
    {
     "name": "stdout",
     "output_type": "stream",
     "text": [
      "this is me\n"
     ]
    }
   ],
   "source": [
    "print(' '.join(b))"
   ]
  },
  {
   "cell_type": "code",
   "execution_count": null,
   "id": "f2e85626",
   "metadata": {},
   "outputs": [],
   "source": []
  },
  {
   "cell_type": "code",
   "execution_count": null,
   "id": "89032e0e",
   "metadata": {},
   "outputs": [],
   "source": []
  },
  {
   "cell_type": "markdown",
   "id": "fe7dc3a7",
   "metadata": {
    "id": "92037576"
   },
   "source": [
    "⑧ 변수 a에 \"나는 파이썬을 배우고 있다.\"를 저장하고 공백을 기준으로 분할하여 리스트 형태로 출력하시오.\n",
    "* 힌트: 문자열.split(분할의 기준이 될 값)"
   ]
  },
  {
   "cell_type": "code",
   "execution_count": 78,
   "id": "30c4b5c0",
   "metadata": {
    "id": "99de1e4b",
    "outputId": "700c3e76-4800-4930-9209-575e64fe5b44"
   },
   "outputs": [
    {
     "data": {
      "text/plain": [
       "['나는', '파이썬을', '배우고', '있다.']"
      ]
     },
     "execution_count": 78,
     "metadata": {},
     "output_type": "execute_result"
    }
   ],
   "source": [
    "a='나는 파이썬을 배우고 있다.'\n",
    "a.split(' ')"
   ]
  },
  {
   "cell_type": "code",
   "execution_count": 79,
   "id": "d3bf60d2",
   "metadata": {},
   "outputs": [
    {
     "name": "stdout",
     "output_type": "stream",
     "text": [
      "['나는', '파이썬을', '배우고', '있다.']\n"
     ]
    }
   ],
   "source": [
    "print(a.split())"
   ]
  },
  {
   "cell_type": "code",
   "execution_count": null,
   "id": "bcbf81cf",
   "metadata": {},
   "outputs": [],
   "source": []
  },
  {
   "cell_type": "code",
   "execution_count": null,
   "id": "044ce74d",
   "metadata": {},
   "outputs": [],
   "source": []
  },
  {
   "cell_type": "markdown",
   "id": "913b5e20",
   "metadata": {
    "id": "cd25dd8b"
   },
   "source": [
    "⑨ 변수 b에 '사람, 코끼리, 낙타'를 저장하고 ','를 기준으로 분할하여 리스트 형태로 출력하시오."
   ]
  },
  {
   "cell_type": "code",
   "execution_count": 80,
   "id": "fdace792",
   "metadata": {
    "id": "f5f4b827",
    "outputId": "9baa044a-8be6-4547-cce5-213b13c7a231"
   },
   "outputs": [
    {
     "data": {
      "text/plain": [
       "['사람', ' 코끼리', ' 낙타']"
      ]
     },
     "execution_count": 80,
     "metadata": {},
     "output_type": "execute_result"
    }
   ],
   "source": [
    "b='사람, 코끼리, 낙타'\n",
    "b.split(',')"
   ]
  },
  {
   "cell_type": "code",
   "execution_count": null,
   "id": "9f69b1c2",
   "metadata": {},
   "outputs": [],
   "source": []
  },
  {
   "cell_type": "code",
   "execution_count": null,
   "id": "9d88fbbd",
   "metadata": {},
   "outputs": [],
   "source": []
  },
  {
   "cell_type": "markdown",
   "id": "d7085495",
   "metadata": {
    "id": "ab88057f"
   },
   "source": [
    "⑩ 변수 c에 '010-1234-5678'을 저장하고, '-'를 기준으로 분할하여 리스트 형태로 출력하시오."
   ]
  },
  {
   "cell_type": "code",
   "execution_count": 53,
   "id": "6a0024f0",
   "metadata": {
    "id": "a5e92b68",
    "outputId": "84ca345d-d59f-438d-8038-1386d68a7e15"
   },
   "outputs": [
    {
     "data": {
      "text/plain": [
       "['010', '1234', '2321']"
      ]
     },
     "execution_count": 53,
     "metadata": {},
     "output_type": "execute_result"
    }
   ],
   "source": [
    "c='010-1234-2321'\n",
    "c.split('-')"
   ]
  },
  {
   "cell_type": "markdown",
   "id": "9aa4b694",
   "metadata": {
    "id": "bb3c73d2"
   },
   "source": [
    "⑪  변수 a에 '     홍길동     '을 저장하고 왼쪽, 오른쪽, 양쪽 공백을 제거하여 각각 출력하시오.\n",
    "* 힌트: 문자열.lstrip(), 문자열.rstrip(), 문자열.strip()"
   ]
  },
  {
   "cell_type": "code",
   "execution_count": 55,
   "id": "eb5e50ff",
   "metadata": {
    "id": "0d07c7c6",
    "outputId": "3fc4e4c2-ff41-4c9a-a6fc-3b98ff06b9ab"
   },
   "outputs": [
    {
     "name": "stdout",
     "output_type": "stream",
     "text": [
      "홍길동      \n",
      "      홍길동\n",
      "홍길동\n"
     ]
    }
   ],
   "source": [
    "a = '      홍길동      '\n",
    "print(a.lstrip())\n",
    "print(a.rstrip())\n",
    "print(a.strip())"
   ]
  },
  {
   "cell_type": "markdown",
   "id": "598cfa83",
   "metadata": {},
   "source": [
    "## 6)정규표현식"
   ]
  },
  {
   "cell_type": "markdown",
   "id": "ed2c8b60",
   "metadata": {},
   "source": [
    "① [심화]전화번호가 규칙에 맞는지 검사하는 코드를 작성해 봅시다.\n",
    "\n",
    "* import re \n",
    "* 아래 코드는 오전 예제 내용입니다. 수정을 합시다.\n",
    "        MobileNumberChk = re.compile(r'\\d\\d\\d-\\d\\d\\d\\d-\\d\\d\\d\\d')\n",
    "* 번호 규칙을 아래와 같이 수정합시다.\n",
    "    * 010으로 시작\n",
    "    * 4번째, 8번째 숫자는 1~9 중 하나 : [1-9]\n",
    "    "
   ]
  },
  {
   "cell_type": "code",
   "execution_count": 6,
   "id": "c44d99fa",
   "metadata": {},
   "outputs": [],
   "source": [
    "import re\n",
    "\n"
   ]
  },
  {
   "cell_type": "code",
   "execution_count": 7,
   "id": "d40644b9",
   "metadata": {},
   "outputs": [
    {
     "name": "stdout",
     "output_type": "stream",
     "text": [
      "전화번호가 정상입니다.\n"
     ]
    }
   ],
   "source": [
    "# 제대로 들어간 값\n",
    "mo = \n",
    "\n",
    "if mo is not None :\n",
    "    print('전화번호가 정상입니다.')\n",
    "else :\n",
    "    print('전화번호가 비정상입니다.')"
   ]
  },
  {
   "cell_type": "code",
   "execution_count": null,
   "id": "f484360b",
   "metadata": {},
   "outputs": [],
   "source": []
  }
 ],
 "metadata": {
  "colab": {
   "collapsed_sections": [
    "09124153"
   ],
   "name": "13과 [실습] 문자열과 정규 표현식_답.ipynb",
   "provenance": [],
   "toc_visible": true
  },
  "kernelspec": {
   "display_name": "Python 3",
   "language": "python",
   "name": "python3"
  },
  "language_info": {
   "codemirror_mode": {
    "name": "ipython",
    "version": 3
   },
   "file_extension": ".py",
   "mimetype": "text/x-python",
   "name": "python",
   "nbconvert_exporter": "python",
   "pygments_lexer": "ipython3",
   "version": "3.8.8"
  }
 },
 "nbformat": 4,
 "nbformat_minor": 5
}
