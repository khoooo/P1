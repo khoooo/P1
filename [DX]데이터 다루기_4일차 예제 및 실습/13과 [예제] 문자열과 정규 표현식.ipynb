{
 "cells": [
  {
   "cell_type": "markdown",
   "id": "fed8a67c",
   "metadata": {
    "id": "3d3eb4fa"
   },
   "source": [
    "# 13. 문자열과 정규 표현식"
   ]
  },
  {
   "cell_type": "markdown",
   "id": "ddf484a8",
   "metadata": {
    "id": "4c594089"
   },
   "source": [
    "## 1. 문자열 다루기"
   ]
  },
  {
   "cell_type": "markdown",
   "id": "3af67bc2",
   "metadata": {
    "id": "fad0059a"
   },
   "source": [
    "### 1) 인덱스 조회"
   ]
  },
  {
   "cell_type": "markdown",
   "id": "d4b57c27",
   "metadata": {
    "id": "5c15cfa0"
   },
   "source": [
    "* 문자열을 인덱스와 범위로 조회\n",
    "    * 문자열도 인덱스로 글자를 자르거나\n",
    "    * 범위 조회를 할 수 있습니다."
   ]
  },
  {
   "cell_type": "code",
   "execution_count": 3,
   "id": "c4722efc",
   "metadata": {
    "id": "91f6c21c"
   },
   "outputs": [
    {
     "name": "stdout",
     "output_type": "stream",
     "text": [
      "자\n",
      "열을 다뤄\n"
     ]
    }
   ],
   "source": [
    "a = \"문자열을 다뤄 봅시다.\"\n",
    "print(a[1])\n",
    "print(a[2:7])"
   ]
  },
  {
   "cell_type": "code",
   "execution_count": 7,
   "id": "481231d4",
   "metadata": {
    "id": "0785a474"
   },
   "outputs": [
    {
     "name": "stdout",
     "output_type": "stream",
     "text": [
      "12\n",
      "문\n",
      "자\n",
      "열\n",
      "을\n",
      " \n",
      "다\n",
      "뤄\n",
      " \n",
      "봅\n",
      "시\n",
      "다\n",
      ".\n"
     ]
    }
   ],
   "source": [
    "print(len(a))\n",
    "\n",
    "for i in range(len(a)) :\n",
    "    print(a[i])"
   ]
  },
  {
   "cell_type": "markdown",
   "id": "73ec2aff",
   "metadata": {
    "id": "3997543a"
   },
   "source": [
    "* 실습①"
   ]
  },
  {
   "cell_type": "code",
   "execution_count": 8,
   "id": "95f9b80d",
   "metadata": {
    "id": "55865f63"
   },
   "outputs": [
    {
     "name": "stdout",
     "output_type": "stream",
     "text": [
      "파이썬\n"
     ]
    }
   ],
   "source": [
    "# '내가 파이썬을 좋아하는 이유'를 b에 저장하고.\n",
    "b = '내가 파이썬을 좋아하는 이유'\n",
    "\n",
    "# '파이썬'만 출력해 봅시다.\n",
    "print(b[3:6])\n"
   ]
  },
  {
   "cell_type": "markdown",
   "id": "3a99f31d",
   "metadata": {
    "id": "b83987cb"
   },
   "source": [
    "### 2) in, not in"
   ]
  },
  {
   "cell_type": "markdown",
   "id": "67d604f0",
   "metadata": {
    "id": "802174d2"
   },
   "source": [
    "* 문자열에서 in 혹은 not in 연산자 사용하기\n",
    "    * 문자열 안에 특정 단어, 문자가 있는지 없는지 확인할 수 있습니다."
   ]
  },
  {
   "cell_type": "code",
   "execution_count": 11,
   "id": "c4ec78d9",
   "metadata": {
    "id": "7e05f86e"
   },
   "outputs": [
    {
     "name": "stdout",
     "output_type": "stream",
     "text": [
      "True\n"
     ]
    }
   ],
   "source": [
    "a = \"문자열을 다뤄 봅시다.\"\n",
    "\n",
    "print( '문' in a)"
   ]
  },
  {
   "cell_type": "code",
   "execution_count": 12,
   "id": "5f814221",
   "metadata": {
    "id": "7559e557"
   },
   "outputs": [
    {
     "name": "stdout",
     "output_type": "stream",
     "text": [
      "True\n"
     ]
    }
   ],
   "source": [
    "print( '만' not in a)"
   ]
  },
  {
   "cell_type": "markdown",
   "id": "304d7d97",
   "metadata": {
    "id": "caf1ec8b"
   },
   "source": [
    "* 실습②"
   ]
  },
  {
   "cell_type": "code",
   "execution_count": 10,
   "id": "3f896e10",
   "metadata": {
    "id": "b88f69df"
   },
   "outputs": [
    {
     "name": "stdout",
     "output_type": "stream",
     "text": [
      "내가 파이썬을 좋아하는 이유\n",
      "True\n"
     ]
    }
   ],
   "source": [
    "# '내가 파이썬을 좋아하는 이유' 가 저장된 b를 이용해서...\n",
    "print(b)\n",
    "# '썬'이 포함되어 있는지 확인하시오.\n",
    "print('썬' in b)\n"
   ]
  },
  {
   "cell_type": "markdown",
   "id": "a4584d02",
   "metadata": {
    "id": "c01843ea"
   },
   "source": [
    "### 3) 문자열 안에 문자열 넣기"
   ]
  },
  {
   "cell_type": "markdown",
   "id": "6e2672b2",
   "metadata": {
    "id": "6dfb23a9"
   },
   "source": [
    "* 문자열 안에 변수의 값을 넣을 수 있습니다.\n",
    "    * 문자열.format() : \n",
    "    * 문자열 안에 {} 를 넣고, .format() 으로 값을 넣어 줄 수 있습니다."
   ]
  },
  {
   "cell_type": "code",
   "execution_count": 13,
   "id": "b6ffc2e2",
   "metadata": {
    "id": "5ffff43b"
   },
   "outputs": [
    {
     "name": "stdout",
     "output_type": "stream",
     "text": [
      "이름 : 한기영, 나이 : 48.\n"
     ]
    }
   ],
   "source": [
    "a = \"이름 : {}, 나이 : {}.\"\n",
    "\n",
    "print(a.format('한기영', 48))"
   ]
  },
  {
   "cell_type": "markdown",
   "id": "f8fdc7bb",
   "metadata": {
    "id": "e0f038ac"
   },
   "source": [
    "* f’문자열{변수} …’ : \n",
    "    * 문자열 앞에 f 를 붙이고, 문자열 안에 {변수} 넣고, 바깥에서 변수 값 지정."
   ]
  },
  {
   "cell_type": "code",
   "execution_count": 14,
   "id": "ce216272",
   "metadata": {
    "id": "c579dc5c"
   },
   "outputs": [
    {
     "name": "stdout",
     "output_type": "stream",
     "text": [
      "이름 : 한기영, 나이 48.\n"
     ]
    }
   ],
   "source": [
    "name = '한기영'\n",
    "age = 48\n",
    "print(f\"이름 : {name}, 나이 {age}.\")"
   ]
  },
  {
   "cell_type": "markdown",
   "id": "befc87b2",
   "metadata": {
    "id": "c6a72bb4"
   },
   "source": [
    "* 실습③"
   ]
  },
  {
   "cell_type": "code",
   "execution_count": 20,
   "id": "77a76690",
   "metadata": {
    "id": "394ab9cb"
   },
   "outputs": [
    {
     "name": "stdout",
     "output_type": "stream",
     "text": [
      "내가 파이썬을 좋아하는 이유\n",
      "내가 축구을 좋아하는 이유\n",
      "내가 {}을 좋아하는 이유\n"
     ]
    }
   ],
   "source": [
    "# '내가 {}을 좋아하는 이유' 를  b에 저장하고,\n",
    "b='내가 {}을 좋아하는 이유'\n",
    "\n",
    "# .format을 이용하여 다음을 출력하시오.\n",
    "\n",
    "# '내가 파이썬을 좋아하는 이유'\n",
    "print(b.format('파이썬'))\n",
    "# '내가 축구를 좋아하는 이유'\n",
    "print(b.format('축구'))\n",
    "print(b)\n"
   ]
  },
  {
   "cell_type": "code",
   "execution_count": 21,
   "id": "2ca7ebaa",
   "metadata": {
    "id": "1b9bb849"
   },
   "outputs": [
    {
     "name": "stdout",
     "output_type": "stream",
     "text": [
      "내가 축구을 좋아하는 이유\n"
     ]
    }
   ],
   "source": [
    "# 위 코드를 f'내가 {what}을 좋아하는 이유'  형태로 다시 작성해 봅시다.\n",
    "what = '축구'\n",
    "\n",
    "print(f'내가 {what}을 좋아하는 이유')\n"
   ]
  },
  {
   "cell_type": "markdown",
   "id": "21e196ba",
   "metadata": {
    "id": "c030d5fd"
   },
   "source": [
    "### 4) 여러줄 문자열"
   ]
  },
  {
   "cell_type": "markdown",
   "id": "acfc8518",
   "metadata": {
    "id": "6298028c"
   },
   "source": [
    "* 문자열을 여러 줄로 표현하기\n",
    "    * 작은따옴표 3개로  '''......''' \n"
   ]
  },
  {
   "cell_type": "code",
   "execution_count": 22,
   "id": "0f3ae35c",
   "metadata": {
    "id": "f83bb4ab"
   },
   "outputs": [
    {
     "name": "stdout",
     "output_type": "stream",
     "text": [
      "이름 : 홍길동\n",
      "나이 : 48\n",
      "거주지 : 서울\n"
     ]
    }
   ],
   "source": [
    "a = '''이름 : 홍길동\n",
    "나이 : 48\n",
    "거주지 : 서울'''\n",
    "print(a)"
   ]
  },
  {
   "cell_type": "markdown",
   "id": "1d2532b6",
   "metadata": {
    "id": "a9a758fd"
   },
   "source": [
    "### 5) 문자열을 다루는 메서드들\n",
    "* 아래 다양한 함수들을 다 외울 수는 없습니다.\n",
    "* 이런 기능의 함수들이 있었다는 것을 기억했다가, 나중에 필요할 때 찾아서 사용할 수 있으면 됩니다."
   ]
  },
  {
   "cell_type": "code",
   "execution_count": 23,
   "id": "f3800eeb",
   "metadata": {
    "id": "ccfaa072"
   },
   "outputs": [
    {
     "name": "stdout",
     "output_type": "stream",
     "text": [
      "I LOVE YOU\n"
     ]
    }
   ],
   "source": [
    "# 모두 대문자로 바꾸기\n",
    "\n",
    "a = \"i love you\"\n",
    "print(a.upper()) "
   ]
  },
  {
   "cell_type": "code",
   "execution_count": 24,
   "id": "85c0a0be",
   "metadata": {
    "id": "14b2793d"
   },
   "outputs": [
    {
     "name": "stdout",
     "output_type": "stream",
     "text": [
      "i love you\n"
     ]
    }
   ],
   "source": [
    "# 모두 소문자로 바꾸기\n",
    "\n",
    "a = \"I Love You\"\n",
    "print(a.lower()) "
   ]
  },
  {
   "cell_type": "code",
   "execution_count": 25,
   "id": "b8e1d0b1",
   "metadata": {
    "id": "d8806a0f"
   },
   "outputs": [
    {
     "name": "stdout",
     "output_type": "stream",
     "text": [
      "나는 너를\n"
     ]
    }
   ],
   "source": [
    "# 한글에서는???\n",
    "\n",
    "a = \"나는 너를\"\n",
    "print(a.lower()) "
   ]
  },
  {
   "cell_type": "code",
   "execution_count": 26,
   "id": "c443f461",
   "metadata": {
    "id": "cad10283"
   },
   "outputs": [
    {
     "name": "stdout",
     "output_type": "stream",
     "text": [
      "I love you\n"
     ]
    }
   ],
   "source": [
    "# 문장의 첫 글자만 대문자로 바꾸기\n",
    "\n",
    "a = \"i love you\"\n",
    "print(a.capitalize()) "
   ]
  },
  {
   "cell_type": "code",
   "execution_count": 28,
   "id": "6c7530f1",
   "metadata": {
    "id": "3773c5a5"
   },
   "outputs": [
    {
     "data": {
      "text/plain": [
       "'사람, 코끼리, 낙타'"
      ]
     },
     "execution_count": 28,
     "metadata": {},
     "output_type": "execute_result"
    }
   ],
   "source": [
    "# 리스트를 하나의 문자열로 만들기\n",
    "\n",
    "a = ['사람', '코끼리', '낙타']\n",
    "', '.join(a)"
   ]
  },
  {
   "cell_type": "code",
   "execution_count": 31,
   "id": "9bfb3d65",
   "metadata": {
    "id": "871fd171"
   },
   "outputs": [
    {
     "name": "stdout",
     "output_type": "stream",
     "text": [
      "['나는', '파이썬을', '배우고', '있다.']\n",
      "['사람', ' 코끼리', ' 낙타']\n"
     ]
    }
   ],
   "source": [
    "# 문자열을 리스트로 만들기\n",
    "\n",
    "a = \"나는 파이썬을 배우고 있다.\"\n",
    "print(a.split())\n",
    "\n",
    "b = '사람, 코끼리, 낙타'\n",
    "print(b.split(','))"
   ]
  },
  {
   "cell_type": "code",
   "execution_count": 32,
   "id": "0a6e7c4c",
   "metadata": {},
   "outputs": [
    {
     "name": "stdout",
     "output_type": "stream",
     "text": [
      "False\n"
     ]
    }
   ],
   "source": [
    "a=' 최기호'\n",
    "b='최기호'\n",
    "print(a == b)"
   ]
  },
  {
   "cell_type": "code",
   "execution_count": 34,
   "id": "2f6ddcbe",
   "metadata": {
    "id": "56ee36c8"
   },
   "outputs": [
    {
     "name": "stdout",
     "output_type": "stream",
     "text": [
      "  홍길동\n",
      "홍길동 \n",
      "홍길동\n"
     ]
    }
   ],
   "source": [
    "# 문자열의 앞, 뒤, 양쪽 공백 제거\n",
    "\n",
    "a = '  홍길동 '\n",
    "\n",
    "print(a.rstrip()) #오른쪽\n",
    "print(a.lstrip()) #왼쪽\n",
    "print(a.strip())  #양쪽"
   ]
  },
  {
   "cell_type": "markdown",
   "id": "eb48974a",
   "metadata": {
    "id": "46d55af7"
   },
   "source": [
    "## 2. 정규 표현식"
   ]
  },
  {
   "cell_type": "markdown",
   "id": "ddd7318a",
   "metadata": {
    "id": "dc3a2cf3"
   },
   "source": [
    "* 문자열 내에서 패턴을 쉽게 찾는 방법입니다.\n",
    "* 파이썬 뿐만 아니라 대부분의 프로그래밍 언어에서 사용됩니다.\n",
    "* 줄여서, ‘정규식’ 이라고 부릅니다."
   ]
  },
  {
   "cell_type": "markdown",
   "id": "523be67a",
   "metadata": {
    "id": "f79e0bfe"
   },
   "source": [
    "정규표현식의 범위는 굉장히 넓기 때문에, 여기서는 예제로 정규표현식을 **경험**해 보겠습니다.\n",
    "> 제대로 된 핸드폰 번호가 맞는지 검사하는 코드를 두가지로 작성해 보겠습니다.  \n",
    "* 일반 구문  \n",
    "* 정규표현식 구문\n",
    "\n",
    "제대로 된 핸드폰 번호 검사를 위한 절차\n",
    "> 010-0000-0000 형식으로 되어 있는지 검사하려고 합니다.  \n",
    "    ① 자리수(- 포함) : 13자리  \n",
    "    ② 첫 숫자 3개는 010 시작  \n",
    "    ③ 4번째 9번째 자리는 -  \n",
    "    ④ 나머지는 모두 숫자  \n"
   ]
  },
  {
   "cell_type": "markdown",
   "id": "23e8b2a4",
   "metadata": {
    "id": "cb6f1d9a"
   },
   "source": [
    "### 정규표현식 경험하기."
   ]
  },
  {
   "cell_type": "markdown",
   "id": "14f72a30",
   "metadata": {
    "id": "bd636338"
   },
   "source": [
    "> ① re 라이브러리를 불러온다  \n",
    "② re.compil로 형식을 지정한다.(이 부분이 정규표현식)  \n",
    "     * \\d : 정수를 의미합니다.   \n",
    "③ 텍스트로 부터 ②의 형식 값이 있는지 찾는다.   \n",
    "     * 만약 없으면 None, 있으면 아래와 같은 값이 출력된다."
   ]
  },
  {
   "cell_type": "code",
   "execution_count": 35,
   "id": "4e377701",
   "metadata": {
    "id": "073b528c"
   },
   "outputs": [],
   "source": [
    "import re\n",
    "\n",
    "# 정규표현식으로 핸드폰 번호 검사기 만들기\n",
    "MobileNumberChk = re.compile(r'\\d\\d\\d-\\d\\d\\d\\d-\\d\\d\\d\\d')"
   ]
  },
  {
   "cell_type": "code",
   "execution_count": 36,
   "id": "b813a21b",
   "metadata": {
    "id": "6bee0444"
   },
   "outputs": [
    {
     "name": "stdout",
     "output_type": "stream",
     "text": [
      "None\n"
     ]
    }
   ],
   "source": [
    "# 사용하기.\n",
    "\n",
    "# 잘못 들어간 값\n",
    "mo = MobileNumberChk.search('010-a234-5678')\n",
    "print(mo)"
   ]
  },
  {
   "cell_type": "code",
   "execution_count": 37,
   "id": "f28db655",
   "metadata": {
    "id": "76125e15"
   },
   "outputs": [
    {
     "name": "stdout",
     "output_type": "stream",
     "text": [
      "전화번호가 정상입니다.\n"
     ]
    }
   ],
   "source": [
    "# 제대로 들어간 값\n",
    "mo = MobileNumberChk.search('010-1234-5678')\n",
    "\n",
    "if mo is not None :\n",
    "    print('전화번호가 정상입니다.')\n",
    "else :\n",
    "    print('전화번호가 비정상입니다.')"
   ]
  },
  {
   "cell_type": "markdown",
   "id": "7ffe1bda",
   "metadata": {
    "id": "qMvGVE45ZG-T"
   },
   "source": [
    "**표현 패턴 : 1자리 패턴**\n",
    "* \\d : 숫자 1자리\n",
    "* [2-5] : 숫자 1자리, 범위 : 2~5\n",
    "* [a-e] : a~e 사이의 문자 1자리\n",
    "* ^a : 반드시 문자 a로 시작\n",
    "* ^[a-zA-Z] : 반드시 영문자(대,소문자) 1자리로 시작\n",
    "* [a-zA-Z_] : 문자열 중에 영문자(대,소문자)혹은 ‘_’  1자리가 있는지 확인\n",
    "\n"
   ]
  },
  {
   "cell_type": "markdown",
   "id": "baaa7f25",
   "metadata": {
    "id": "EZVVqKvpZQ7B"
   },
   "source": [
    "**정규 표현식**에 대한 좀더 자세한 공부를 위해서 다음의 링크를 참조하세요.\n",
    "* 위키백과 : https://ko.wikipedia.org/wiki/%EC%A0%95%EA%B7%9C_%ED%91%9C%ED%98%84%EC%8B%9D \n",
    "* 점프투파이썬 : https://wikidocs.net/1669 \n"
   ]
  },
  {
   "cell_type": "markdown",
   "id": "13422704",
   "metadata": {
    "id": "dGLsUegbWiZL"
   },
   "source": [
    "----"
   ]
  },
  {
   "cell_type": "markdown",
   "id": "20634152",
   "metadata": {
    "id": "827ac58f"
   },
   "source": [
    "## 실습 답안"
   ]
  },
  {
   "cell_type": "markdown",
   "id": "ff7a63f7",
   "metadata": {
    "id": "9c825409"
   },
   "source": [
    "* 실습①"
   ]
  },
  {
   "cell_type": "code",
   "execution_count": null,
   "id": "19edc053",
   "metadata": {
    "id": "20cf7d3a",
    "outputId": "4f34cc81-00cc-4939-d50d-c939a1fa2e18"
   },
   "outputs": [],
   "source": [
    "# '내가 파이썬을 좋아하는 이유'를 b에 저장하고.\n",
    "b = '내가 파이썬을 좋아하는 이유'\n",
    "\n",
    "# 파이썬만 출력해 봅시다.\n",
    "\n",
    "print(b[3:6])"
   ]
  },
  {
   "cell_type": "markdown",
   "id": "2bd1c6d0",
   "metadata": {
    "id": "3cb7055c"
   },
   "source": [
    "* 실습②"
   ]
  },
  {
   "cell_type": "code",
   "execution_count": null,
   "id": "1e3024c8",
   "metadata": {
    "id": "c9733fd0",
    "outputId": "bfefecde-dbb5-4bbb-9cd8-0bc35176bf3d"
   },
   "outputs": [],
   "source": [
    "# '내가 파이썬을 좋아하는 이유' 가 저장된 b를 이용해서...\n",
    "\n",
    "# '썬'이 포함되어 있는지 확인하시오.\n",
    "\n",
    "print('썬' in b)"
   ]
  },
  {
   "cell_type": "markdown",
   "id": "73ae439c",
   "metadata": {
    "id": "dcdbd24d"
   },
   "source": [
    "* 실습③"
   ]
  },
  {
   "cell_type": "code",
   "execution_count": null,
   "id": "9e520584",
   "metadata": {
    "id": "c7f1792f",
    "outputId": "40a76ffa-af4c-436d-d85f-08dab639cd25"
   },
   "outputs": [],
   "source": [
    "# '내가 {}을 좋아하는 이유' 를  b에 저장하고,\n",
    "b = '내가 {}를 좋아하는 이유'\n",
    "\n",
    "# .format을 이용하여 다음을 출력하시오.\n",
    "\n",
    "# '내가 파이썬을 좋아하는 이유'\n",
    "print(b.format('파이썬'))\n",
    "\n",
    "# '내가 축구를 좋아하는 이유'\n",
    "print(b.format('축구'))\n"
   ]
  },
  {
   "cell_type": "code",
   "execution_count": null,
   "id": "b1c81223",
   "metadata": {
    "id": "4f7a631a",
    "outputId": "06221344-3e83-4158-cb3b-5451e9ad55f7"
   },
   "outputs": [],
   "source": [
    "# 위 코드를 f'내가 {what}을 좋아하는 이유'  형태로 다시 작성해 봅시다.\n",
    "\n",
    "what = '파이썬'\n",
    "\n",
    "b = f'내가 {what}을 좋아하는 이유'\n",
    "\n",
    "print(b)\n",
    "\n",
    "what = '축구'\n",
    "\n",
    "b = f'내가 {what}를 좋아하는 이유'\n",
    "\n",
    "print(b)"
   ]
  }
 ],
 "metadata": {
  "colab": {
   "collapsed_sections": [],
   "name": "13과 [예제] 문자열과 정규 표현식.ipynb",
   "provenance": []
  },
  "kernelspec": {
   "display_name": "Python 3",
   "language": "python",
   "name": "python3"
  },
  "language_info": {
   "codemirror_mode": {
    "name": "ipython",
    "version": 3
   },
   "file_extension": ".py",
   "mimetype": "text/x-python",
   "name": "python",
   "nbconvert_exporter": "python",
   "pygments_lexer": "ipython3",
   "version": "3.8.8"
  }
 },
 "nbformat": 4,
 "nbformat_minor": 5
}
