{
 "cells": [
  {
   "cell_type": "markdown",
   "metadata": {
    "id": "4ndO2EeP5ECL"
   },
   "source": [
    "# Jupyter Notebook 기본 사용법\n",
    "\n",
    "* 어제까지는 에이블 실습장에서 기본 코드를 익히는 수업과 실습을 진행하였습니다.\n",
    "* 오늘부터 내일까지는 진짜 개발환경에서 배우고 연습하도록 하겠습니다.\n",
    "* 이 단원에서는 개발도구인 주피터 노트북에 대한 기본 사용법을 익힙니다~!"
   ]
  },
  {
   "cell_type": "markdown",
   "metadata": {
    "id": "fQc-pZCY-8Tu"
   },
   "source": [
    "## 1. 셀 선택, 편집 모드 진입 / 선택 모드\n",
    "\n",
    "* **Enter, Esc, 화살표**로 마음껏 움직여 보세요.  \n",
    "* **편집모드**와 **선택모드**를 구별 해 봅시다.\n",
    "\n"
   ]
  },
  {
   "cell_type": "markdown",
   "metadata": {
    "id": "4oqkB17Y5rg9"
   },
   "source": [
    "----"
   ]
  },
  {
   "cell_type": "markdown",
   "metadata": {
    "id": "sNKHr4xc-8gW"
   },
   "source": [
    "## 2. 셀을 실행하는 방법들"
   ]
  },
  {
   "cell_type": "markdown",
   "metadata": {
    "id": "RbGpjkiOzD7z"
   },
   "source": [
    "아래 실행 단축키 3가지를 다 눌러보고 차이점을 적어 봅시다.\n",
    "* Alt + Enter : 해당 셀 실행 후 빈 셀 추가\n",
    "* Ctrl + Enter : 셀 실행 후 해당 셀 유지\n",
    "* Shift + Enter : 셀 실행 후 다음 셀 이동"
   ]
  },
  {
   "cell_type": "code",
   "execution_count": 31,
   "metadata": {
    "id": "rqUi-NTP5hVr",
    "outputId": "c6a4e452-49b8-42a2-e341-1ab3f65d70b3",
    "scrolled": true
   },
   "outputs": [
    {
     "name": "stdout",
     "output_type": "stream",
     "text": [
      "Hello, World\n"
     ]
    }
   ],
   "source": [
    "print('Hello, World')"
   ]
  },
  {
   "cell_type": "code",
   "execution_count": null,
   "metadata": {},
   "outputs": [],
   "source": []
  },
  {
   "cell_type": "code",
   "execution_count": null,
   "metadata": {},
   "outputs": [],
   "source": []
  },
  {
   "cell_type": "code",
   "execution_count": null,
   "metadata": {},
   "outputs": [],
   "source": []
  },
  {
   "cell_type": "markdown",
   "metadata": {
    "id": "IjRu0JeO5rhA"
   },
   "source": [
    "----"
   ]
  },
  {
   "cell_type": "markdown",
   "metadata": {
    "id": "Bset4YGo37Tf"
   },
   "source": [
    "## 3. 두가지 종류의 셀\n",
    "\n",
    "* 코드셀 : 실제 코드를 작성하고 실행하는 셀\n",
    "* 마크다운 셀(텍스트 셀) : 설명문 등을 작성하는 셀"
   ]
  },
  {
   "cell_type": "markdown",
   "metadata": {
    "id": "eOO-pcoKmi1z"
   },
   "source": [
    "### 1) 셀 생성, 셀 삭제"
   ]
  },
  {
   "cell_type": "code",
   "execution_count": null,
   "metadata": {},
   "outputs": [],
   "source": [
    "d"
   ]
  },
  {
   "cell_type": "markdown",
   "metadata": {
    "id": "HFBVSHlGqzSw"
   },
   "source": [
    "선택된 셀 기준으로\n",
    "* 위에 셀 생성 : a\n",
    "* 아래에 셀 생성 : b\n",
    "* 삭제는 : dd\n",
    "* 삭제한 셀 되돌리기 : z\n"
   ]
  },
  {
   "cell_type": "code",
   "execution_count": null,
   "metadata": {},
   "outputs": [],
   "source": []
  },
  {
   "cell_type": "code",
   "execution_count": null,
   "metadata": {},
   "outputs": [],
   "source": []
  },
  {
   "cell_type": "markdown",
   "metadata": {
    "id": "75qwssWHxyw2"
   },
   "source": [
    "### 2) 셀 전환 방법\n",
    "\n",
    "* 마크다운으로 전환 : m\n",
    "* 코드셀로 전환 : y"
   ]
  },
  {
   "cell_type": "markdown",
   "metadata": {
    "id": "caBCPYZbEnYR"
   },
   "source": [
    "#### 여기는 마크다운 셀\n",
    "이 셀을 마크다운셀(텍스트셀)로 변경해 봅시다."
   ]
  },
  {
   "cell_type": "code",
   "execution_count": 8,
   "metadata": {
    "id": "Cz0Gn5hbFJaA"
   },
   "outputs": [
    {
     "name": "stdout",
     "output_type": "stream",
     "text": [
      "지금 사용하고 있는 웹 기반 개발 도구 이름은?\n",
      "답 : Jupyter Notebook\n",
      "Good!\n"
     ]
    }
   ],
   "source": [
    "#### 여기는 코드셀\n",
    "# 이 셀을 코드셀로 변경해 봅시다.\n",
    "\n",
    "print( '지금 사용하고 있는 웹 기반 개발 도구 이름은?')\n",
    "answers = input(\"답 : \")\n",
    "\n",
    "if answers == 'Jupyter Notebook' :\n",
    "  print(\"Good!\")\n",
    "else :\n",
    "  print('type correctly, plz')"
   ]
  },
  {
   "cell_type": "markdown",
   "metadata": {
    "id": "vYh4oPw45rhF"
   },
   "source": [
    "----"
   ]
  },
  {
   "cell_type": "markdown",
   "metadata": {
    "id": "qAHLjoP_EUQx"
   },
   "source": [
    "## 4. 마크다운 셀(텍스트셀)\n",
    "몇가지 편집 방법을 알아봅시다.\n",
    "\n"
   ]
  },
  {
   "cell_type": "markdown",
   "metadata": {
    "id": "KDCLtpbkwydM"
   },
   "source": [
    "### 1) 제목 붙이기\n",
    "* '#' 사용법\n",
    "\n",
    "# 제목1\n",
    "## 제목2\n",
    "### 제목3\n",
    "#### 제목4\n",
    "##### 제목5\n",
    "###### 제목6"
   ]
  },
  {
   "cell_type": "markdown",
   "metadata": {
    "id": "IZ5EmvgmwydN"
   },
   "source": [
    "* '*' 사용법\n",
    "    * 항목을 표시합니다.\n",
    "    * tab 으로 들여쓰기를 합니다.\n",
    "\n",
    "- abc\n",
    "- edf\n",
    "    - ghi\n",
    "    - jkl\n",
    "        - mno"
   ]
  },
  {
   "cell_type": "markdown",
   "metadata": {
    "id": "XaXNCd31wydO"
   },
   "source": [
    "### 2) 왼쪽 바(인용)를 그려줍니다.  \n",
    "\n",
    "> 왼쪽 바를 그려줍니다.  \n",
    "abc  \n",
    "def"
   ]
  },
  {
   "cell_type": "markdown",
   "metadata": {
    "id": "9OoUFqJ65rhG"
   },
   "source": [
    "### 3) 한줄 내리기\n",
    "이게 좀 헷갈립니다.  \n",
    "우리가 문서 편집기에서 한줄 내리려면,\n",
    "그냥 엔터 한번이면 되는데...\n",
    "여기서는 안됩니다.\n",
    "\n",
    "① 엔터를 두번 치거나\n",
    "\n",
    "② 아니면, 줄 오른쪽 끝에 스페이스바를 두번 띄어주고  \n",
    "엔터를 치거나"
   ]
  },
  {
   "cell_type": "markdown",
   "metadata": {
    "id": "FLBR-5IiwydO"
   },
   "source": [
    "### 4) 굵게 강조하려면...\n",
    "\n",
    "오늘은 **jupyter notebook**을 이용합니다."
   ]
  },
  {
   "cell_type": "markdown",
   "metadata": {
    "id": "P7frniNiqqxN"
   },
   "source": [
    "### 5) 링크 삽입, 이미지 삽입\n",
    "\n",
    "* 링크 삽입\n",
    "\n",
    "[하이퍼링크를 붙이려면, 대괄호 안에 글을쓰고, 오른쪽에 소괄호로 링크를 붙인다.](https://gist.github.com/ninanung/2b81a5db946c26c98c573e3662a92b62)\n",
    "\n",
    "[네이버](https://www.naver.com)\n",
    "\n",
    "* 이미지 추가\n",
    "\n",
    "![이미지](https://photo.jtbc.joins.com/news/jam_photo/202110/14/e7817fdb-fd97-4382-a7fb-44ae8c00f848.jpg)"
   ]
  },
  {
   "cell_type": "markdown",
   "metadata": {
    "id": "s7PyzvO25rhH"
   },
   "source": [
    "----"
   ]
  },
  {
   "cell_type": "markdown",
   "metadata": {
    "id": "7ldgQlRbGzn2"
   },
   "source": [
    "## 5. 코드 셀"
   ]
  },
  {
   "cell_type": "code",
   "execution_count": null,
   "metadata": {},
   "outputs": [],
   "source": []
  },
  {
   "cell_type": "code",
   "execution_count": null,
   "metadata": {},
   "outputs": [],
   "source": []
  },
  {
   "cell_type": "markdown",
   "metadata": {
    "id": "pwVACbBWyAJt"
   },
   "source": [
    "### 1) 코드셀 라인 번호 추가"
   ]
  },
  {
   "cell_type": "markdown",
   "metadata": {
    "id": "bE9SjFkUm7QJ"
   },
   "source": [
    "* 단축키 : L\n"
   ]
  },
  {
   "cell_type": "code",
   "execution_count": 35,
   "metadata": {
    "id": "BUG-ch1-GNQq",
    "scrolled": false
   },
   "outputs": [
    {
     "name": "stdout",
     "output_type": "stream",
     "text": [
      "0\n",
      "1\n",
      "2\n",
      "3\n",
      "4\n",
      "5\n",
      "6\n",
      "7\n",
      "8\n",
      "9\n",
      "loop done\n",
      "45\n",
      "[0, 1, 2, 3, 4, 5, 6, 7, 8, 9]\n"
     ]
    }
   ],
   "source": [
    "sample_list = []\n",
    "sumsum = 0\n",
    "\n",
    "for i in range(10) :\n",
    "  sample_list.append(i)\n",
    "  sumsum += i\n",
    "  print(i)\n",
    "print('loop done')\n",
    "print(sumsum)\n",
    "print(sample_list)"
   ]
  },
  {
   "attachments": {
    "image.png": {
     "image/png": "[encoded data removed]"
    }
   },
   "cell_type": "markdown",
   "metadata": {},
   "source": [
    "* 전체 코드셀에 모두 라인번호 보이게 하기\n",
    "\n",
    "![image.png](attachment:image.png)"
   ]
  },
  {
   "cell_type": "markdown",
   "metadata": {
    "id": "FXQjMt8ayXds"
   },
   "source": [
    "### 2) 여러줄 주석처리\n",
    "\n",
    "Ctrl + /"
   ]
  },
  {
   "cell_type": "code",
   "execution_count": null,
   "metadata": {
    "id": "yDejheGnyekQ"
   },
   "outputs": [],
   "source": [
    "sample_list = []\n",
    "sumsum = 0\n",
    "\n",
    "for i in range(10) :\n",
    "  sample_list.append(i)\n",
    "  sumsum += i\n",
    "  print(i)\n",
    "# print('loop done')\n",
    "# print(sumsum)\n",
    "# print(sample_list)"
   ]
  },
  {
   "cell_type": "markdown",
   "metadata": {
    "id": "dhtXY41j5rhJ"
   },
   "source": [
    "----"
   ]
  },
  {
   "cell_type": "markdown",
   "metadata": {
    "id": "MXHLpl9erIEN"
   },
   "source": [
    "## 6. 저장\n",
    "\n",
    "* 주피터노트북 파일을 저장 : s"
   ]
  },
  {
   "cell_type": "markdown",
   "metadata": {
    "id": "McDJ8U80r0tR"
   },
   "source": [
    "## 7. 단축키 정리\n",
    "\n",
    "아래 여러 단축키 중에서 몇가지만 살펴봅시다."
   ]
  },
  {
   "cell_type": "markdown",
   "metadata": {
    "id": "E3RzqfbesRKX"
   },
   "source": [
    "![이미지](https://blog.kakaocdn.net/dn/cnHJMj/btqVK8VFUNp/5itM1tPg6on8HyEigi8600/img.png)"
   ]
  },
  {
   "cell_type": "markdown",
   "metadata": {
    "id": "T2bSs3g75rhK"
   },
   "source": [
    "단축키\n",
    "* 복사 : c\n",
    "* 잘라내기 : x\n",
    "* 붙여넣기 : v"
   ]
  }
 ],
 "metadata": {
  "colab": {
   "collapsed_sections": [],
   "name": "11과 [예제] Jupyter Notebook 기본 사용법.ipynb",
   "provenance": [],
   "toc_visible": true
  },
  "kernelspec": {
   "display_name": "Python 3",
   "language": "python",
   "name": "python3"
  },
  "language_info": {
   "codemirror_mode": {
    "name": "ipython",
    "version": 3
   },
   "file_extension": ".py",
   "mimetype": "text/x-python",
   "name": "python",
   "nbconvert_exporter": "python",
   "pygments_lexer": "ipython3",
   "version": "3.8.8"
  }
 },
 "nbformat": 4,
 "nbformat_minor": 1
}
