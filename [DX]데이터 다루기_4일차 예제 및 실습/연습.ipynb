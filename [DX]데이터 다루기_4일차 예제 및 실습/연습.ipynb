{
 "cells": [
  {
   "cell_type": "code",
   "execution_count": 4,
   "id": "7ef4ef2b",
   "metadata": {},
   "outputs": [
    {
     "name": "stdout",
     "output_type": "stream",
     "text": [
      "내가 축구를 좋아\n"
     ]
    }
   ],
   "source": [
    "w='축구'\n",
    "print(f'내가 {w}를 좋아')"
   ]
  },
  {
   "cell_type": "code",
   "execution_count": 10,
   "id": "2df3094a",
   "metadata": {},
   "outputs": [
    {
     "name": "stdout",
     "output_type": "stream",
     "text": [
      "축구가 좋아, 세상\n"
     ]
    }
   ],
   "source": [
    "a='{}가 좋아, {}'\n",
    "print(a.format('축구', '세상'))"
   ]
  },
  {
   "cell_type": "code",
   "execution_count": 1,
   "id": "575949ce",
   "metadata": {},
   "outputs": [
    {
     "name": "stdout",
     "output_type": "stream",
     "text": [
      "{1, 2, 3, 4}\n",
      "<class 'set'>\n"
     ]
    }
   ],
   "source": [
    "set1={1,2,3,4}\n",
    "print(set1)\n",
    "print(type(set1))"
   ]
  },
  {
   "cell_type": "code",
   "execution_count": 3,
   "id": "655e9e1d",
   "metadata": {},
   "outputs": [
    {
     "name": "stdout",
     "output_type": "stream",
     "text": [
      "{1, 2, 3, 4, 5}\n",
      "{1, 2, 3, 4, 5}\n"
     ]
    }
   ],
   "source": [
    "set1.add(5)\n",
    "print(set1)\n",
    "set1.add(3)\n",
    "print(set1)"
   ]
  },
  {
   "cell_type": "code",
   "execution_count": 5,
   "id": "38f33cc8",
   "metadata": {},
   "outputs": [
    {
     "name": "stdout",
     "output_type": "stream",
     "text": [
      "{'e', 'o', 'l', 'h'}\n",
      "<class 'set'>\n"
     ]
    }
   ],
   "source": [
    "set2={'h','e','l','l','o'}\n",
    "print(set2)\n",
    "print(type(set2))"
   ]
  },
  {
   "cell_type": "code",
   "execution_count": 6,
   "id": "222e5637",
   "metadata": {},
   "outputs": [
    {
     "name": "stdout",
     "output_type": "stream",
     "text": [
      "{'r', 'l', 'e', 'h', 'o', 'w', 'd'}\n"
     ]
    }
   ],
   "source": [
    "set2.add('w')\n",
    "set2.add('o')\n",
    "set2.add('r')\n",
    "set2.add('l')\n",
    "set2.add('d')\n",
    "print(set2)"
   ]
  },
  {
   "cell_type": "code",
   "execution_count": 7,
   "id": "d267d8b8",
   "metadata": {},
   "outputs": [
    {
     "name": "stdout",
     "output_type": "stream",
     "text": [
      "(23.5, 10.1)\n",
      "<class 'tuple'>\n",
      "(1, 2, 3, 4, 5)\n",
      "<class 'tuple'>\n"
     ]
    }
   ],
   "source": [
    "t1=(23.5,10.1)\n",
    "t2=(1,2,3,4,5)\n",
    "print(t1)\n",
    "print(type(t1))\n",
    "print(t2)\n",
    "print(type(t2))"
   ]
  },
  {
   "cell_type": "code",
   "execution_count": 9,
   "id": "6b541a5e",
   "metadata": {},
   "outputs": [
    {
     "name": "stdout",
     "output_type": "stream",
     "text": [
      "1 3\n",
      "4\n"
     ]
    }
   ],
   "source": [
    "print(t2[0],t2[2])\n",
    "print(t2[0]+t2[2])"
   ]
  },
  {
   "cell_type": "code",
   "execution_count": 12,
   "id": "eabae322",
   "metadata": {},
   "outputs": [
    {
     "name": "stdout",
     "output_type": "stream",
     "text": [
      "<class 'tuple'>\n"
     ]
    }
   ],
   "source": [
    "empty=()\n",
    "\n",
    "print(type(empty))"
   ]
  },
  {
   "cell_type": "code",
   "execution_count": 14,
   "id": "b2f9fb5b",
   "metadata": {},
   "outputs": [
    {
     "name": "stdout",
     "output_type": "stream",
     "text": [
      "(1, 3, 5, 7, 9)\n",
      "(5, 7, 9)\n"
     ]
    }
   ],
   "source": [
    "t3=(1,3,5,7,9)\n",
    "print(t3)\n",
    "print(t3[2:])"
   ]
  },
  {
   "cell_type": "code",
   "execution_count": 15,
   "id": "51bc56b6",
   "metadata": {},
   "outputs": [
    {
     "data": {
      "text/plain": [
       "24"
      ]
     },
     "execution_count": 15,
     "metadata": {},
     "output_type": "execute_result"
    }
   ],
   "source": [
    "import math as m\n",
    "m.factorial(4)"
   ]
  },
  {
   "cell_type": "code",
   "execution_count": 16,
   "id": "b693950c",
   "metadata": {},
   "outputs": [
    {
     "data": {
      "text/plain": [
       "24"
      ]
     },
     "execution_count": 16,
     "metadata": {},
     "output_type": "execute_result"
    }
   ],
   "source": [
    "from math import factorial as fac\n",
    "fac(4)"
   ]
  },
  {
   "cell_type": "code",
   "execution_count": 27,
   "id": "2fd89178",
   "metadata": {},
   "outputs": [
    {
     "data": {
      "text/plain": [
       "2"
      ]
     },
     "execution_count": 27,
     "metadata": {},
     "output_type": "execute_result"
    }
   ],
   "source": [
    "import random as rd\n",
    "\n",
    "rd.randint(1,6)"
   ]
  },
  {
   "cell_type": "code",
   "execution_count": 38,
   "id": "e8386cfc",
   "metadata": {},
   "outputs": [
    {
     "name": "stdout",
     "output_type": "stream",
     "text": [
      "6\n",
      "==================================================\n",
      "1\n",
      "2\n",
      "5\n",
      "1\n",
      "3\n",
      "1\n",
      "[1, 2, 5, 1, 3, 1]\n",
      "총 합 : 13\n"
     ]
    }
   ],
   "source": [
    "count=int(input())\n",
    "print('='*50)\n",
    "num=[]\n",
    "\n",
    "for i in range(count):\n",
    "    n=rd.randint(1,6)\n",
    "    num.append(n)\n",
    "    print(n)\n",
    "print(num)\n",
    "print('총 합 :',sum(num))"
   ]
  },
  {
   "cell_type": "markdown",
   "id": "213b7323",
   "metadata": {},
   "source": [
    "----"
   ]
  },
  {
   "cell_type": "code",
   "execution_count": 43,
   "id": "5a67bcc1",
   "metadata": {},
   "outputs": [
    {
     "name": "stdout",
     "output_type": "stream",
     "text": [
      "자\n",
      "열을 다뤄\n",
      "다\n"
     ]
    }
   ],
   "source": [
    "a='문자열을 다뤄 봅시다.'\n",
    "print(a[1])\n",
    "print(a[2:7])\n",
    "print(a[-2])"
   ]
  },
  {
   "cell_type": "code",
   "execution_count": 44,
   "id": "20c85f34",
   "metadata": {},
   "outputs": [
    {
     "name": "stdout",
     "output_type": "stream",
     "text": [
      "계\n",
      "해\n",
      " \n",
      "습\n",
      " \n",
      "겠\n",
      "니\n",
      ".\n"
     ]
    }
   ],
   "source": [
    "c='계속해서 연습해 보겠습니다.'\n",
    "\n",
    "for i in range(len(c)):\n",
    "    if i%2==0:\n",
    "        print(c[i])"
   ]
  },
  {
   "cell_type": "code",
   "execution_count": 47,
   "id": "702f4554",
   "metadata": {},
   "outputs": [
    {
     "name": "stdout",
     "output_type": "stream",
     "text": [
      "True\n",
      "True\n"
     ]
    }
   ],
   "source": [
    "print('문' in a)\n",
    "print('만' not in a)"
   ]
  },
  {
   "cell_type": "code",
   "execution_count": 49,
   "id": "77946cb7",
   "metadata": {},
   "outputs": [
    {
     "name": "stdout",
     "output_type": "stream",
     "text": [
      "True\n",
      "True\n"
     ]
    }
   ],
   "source": [
    "b='파이썬 배울수록 재미있죠?'\n",
    "print('배' in b)\n",
    "print('가' not in b)"
   ]
  },
  {
   "cell_type": "code",
   "execution_count": 50,
   "id": "70ed5ed3",
   "metadata": {},
   "outputs": [
    {
     "name": "stdout",
     "output_type": "stream",
     "text": [
      "이름:홍길동, 나이:25\n"
     ]
    }
   ],
   "source": [
    "a='이름:{}, 나이:{}'\n",
    "print(a.format('홍길동', 25))\n"
   ]
  },
  {
   "cell_type": "code",
   "execution_count": 51,
   "id": "69625d0a",
   "metadata": {},
   "outputs": [
    {
     "name": "stdout",
     "output_type": "stream",
     "text": [
      "이름 : 홍길동, 나이:25\n"
     ]
    }
   ],
   "source": [
    "name='홍길동'\n",
    "age=25\n",
    "print(f'이름 : {name}, 나이:{age}')"
   ]
  },
  {
   "cell_type": "code",
   "execution_count": 56,
   "id": "22824330",
   "metadata": {},
   "outputs": [
    {
     "name": "stdout",
     "output_type": "stream",
     "text": [
      "아메리카노는 3500원입니다.\n",
      "카페라떼는 3800원입니다.\n",
      "콜드브루는 4000원입니다.\n",
      "프라프치노는 4500원입니다.\n"
     ]
    }
   ],
   "source": [
    "co={'아메리카노':3500, '카페라떼':3800, '콜드브루':4000, '프라프치노':4500}\n",
    "a='{}는 {}원입니다.'\n",
    "\n",
    "for k,v in co.items():\n",
    "    print(a.format(k,v))"
   ]
  },
  {
   "cell_type": "code",
   "execution_count": 57,
   "id": "0a9abce5",
   "metadata": {},
   "outputs": [
    {
     "name": "stdout",
     "output_type": "stream",
     "text": [
      "이름:홍길동\n",
      "나이:48\n"
     ]
    }
   ],
   "source": [
    "a='''이름:홍길동\n",
    "나이:48'''\n",
    "print(a)"
   ]
  },
  {
   "cell_type": "code",
   "execution_count": 58,
   "id": "ee4229e3",
   "metadata": {},
   "outputs": [
    {
     "name": "stdout",
     "output_type": "stream",
     "text": [
      "I LOVE YOU\n"
     ]
    }
   ],
   "source": [
    "a='I love you'\n",
    "print(a.upper())"
   ]
  },
  {
   "cell_type": "code",
   "execution_count": 61,
   "id": "406d4565",
   "metadata": {},
   "outputs": [
    {
     "name": "stdout",
     "output_type": "stream",
     "text": [
      "life is a journey\n"
     ]
    }
   ],
   "source": [
    "b='Life is a journey'\n",
    "print(b.lower())"
   ]
  },
  {
   "cell_type": "code",
   "execution_count": 62,
   "id": "ca6a5647",
   "metadata": {},
   "outputs": [
    {
     "name": "stdout",
     "output_type": "stream",
     "text": [
      "I love you\n"
     ]
    }
   ],
   "source": [
    "c='i love you'\n",
    "print(c.capitalize())"
   ]
  },
  {
   "cell_type": "code",
   "execution_count": 66,
   "id": "5d8c4ab8",
   "metadata": {},
   "outputs": [
    {
     "name": "stdout",
     "output_type": "stream",
     "text": [
      "사람, 호랑이, 사자\n",
      "3\n"
     ]
    }
   ],
   "source": [
    "a=['사람', '호랑이', '사자']\n",
    "print(', '.join(a))\n",
    "print(len(a))"
   ]
  },
  {
   "cell_type": "code",
   "execution_count": 67,
   "id": "9efb3de3",
   "metadata": {},
   "outputs": [
    {
     "name": "stdout",
     "output_type": "stream",
     "text": [
      "this is me\n"
     ]
    }
   ],
   "source": [
    "b=['this', 'is', 'me']\n",
    "print(' '.join(b))"
   ]
  },
  {
   "cell_type": "code",
   "execution_count": 72,
   "id": "e99a981c",
   "metadata": {},
   "outputs": [
    {
     "name": "stdout",
     "output_type": "stream",
     "text": [
      "['나는', '파이썬을', '배우고', '있다.']\n",
      "['나는', '파이썬을', '배우고', '있다.']\n"
     ]
    }
   ],
   "source": [
    "a='나는 파이썬을 배우고 있다.'\n",
    "print(a.split())\n",
    "print(a.split(' '))"
   ]
  },
  {
   "cell_type": "code",
   "execution_count": 75,
   "id": "6ec3bd95",
   "metadata": {},
   "outputs": [
    {
     "name": "stdout",
     "output_type": "stream",
     "text": [
      "홍길동\n",
      "            홍길동\n",
      "홍길동\n"
     ]
    }
   ],
   "source": [
    "a='            홍길동'\n",
    "print(a.strip())\n",
    "print(a.rstrip())\n",
    "print(a.lstrip())"
   ]
  },
  {
   "cell_type": "code",
   "execution_count": 77,
   "id": "178dc9f5",
   "metadata": {},
   "outputs": [
    {
     "name": "stdout",
     "output_type": "stream",
     "text": [
      "C:\\Users\\User\n"
     ]
    }
   ],
   "source": [
    "from pathlib import Path\n",
    "\n",
    "print(Path.home())"
   ]
  },
  {
   "cell_type": "code",
   "execution_count": 78,
   "id": "5bc8da4b",
   "metadata": {},
   "outputs": [],
   "source": [
    "f=open('newfile3.txt', 'w')\n",
    "f.write('오늘은 21년 12월 23일이다.')\n",
    "f.close()"
   ]
  },
  {
   "cell_type": "code",
   "execution_count": 80,
   "id": "a181996f",
   "metadata": {},
   "outputs": [],
   "source": [
    "f=open('newfile3.txt', 'a')\n",
    "f.write('\\n현재 밤11시, 나머지 공부 중이다.')\n",
    "f.close()"
   ]
  },
  {
   "cell_type": "code",
   "execution_count": 88,
   "id": "ddfbd0d6",
   "metadata": {},
   "outputs": [
    {
     "name": "stdout",
     "output_type": "stream",
     "text": [
      "서시\n",
      "\n",
      "윤동주\n",
      "\n",
      "\n",
      "\n",
      "죽는 날까지 하늘을 우러러\n",
      "\n",
      "한 점 부끄럼이 없기를,\n",
      "\n"
     ]
    }
   ],
   "source": [
    "f=open('poem.txt', 'r')\n",
    "print(f.readline())\n",
    "print(f.readline())\n",
    "print(f.readline())\n",
    "print(f.readline())\n",
    "print(f.readline())"
   ]
  },
  {
   "cell_type": "code",
   "execution_count": 94,
   "id": "1297700a",
   "metadata": {},
   "outputs": [
    {
     "name": "stdout",
     "output_type": "stream",
     "text": [
      "서시\n",
      "\n",
      "윤동주\n",
      "\n",
      "\n",
      "\n",
      "죽는 날까지 하늘을 우러러\n",
      "\n",
      "한 점 부끄럼이 없기를,\n",
      "\n",
      "잎새에 이는 바람에도\n",
      "\n",
      "나는 괴로워했다.\n",
      "\n",
      "\n",
      "\n",
      "별을 노래하는 마음으로\n",
      "\n",
      "모든 죽어 가는 것을 사랑해야지\n",
      "\n",
      "그리고 나한테 주어진 길을\n",
      "\n",
      "걸어가야겠다.\n",
      "\n",
      "\n",
      "\n",
      "오늘 밤에도 별이 바람에 스치운다.\n",
      "\n"
     ]
    }
   ],
   "source": [
    "f=open('poem.txt', 'r')\n",
    "long=f.readlines()\n",
    "\n",
    "for i in long:\n",
    "    print(i)\n",
    "    \n",
    "f.close()"
   ]
  },
  {
   "cell_type": "code",
   "execution_count": 96,
   "id": "b3b3dca9",
   "metadata": {},
   "outputs": [
    {
     "name": "stdout",
     "output_type": "stream",
     "text": [
      "서시\n",
      "\n",
      "윤동주\n",
      "\n",
      "\n",
      "\n",
      "죽는 날까지 하늘을 우러러\n",
      "\n",
      "한 점 부끄럼이 없기를,\n",
      "\n",
      "잎새에 이는 바람에도\n",
      "\n",
      "나는 괴로워했다.\n",
      "\n",
      "\n",
      "\n",
      "별을 노래하는 마음으로\n",
      "\n",
      "모든 죽어 가는 것을 사랑해야지\n",
      "\n",
      "그리고 나한테 주어진 길을\n",
      "\n",
      "걸어가야겠다.\n",
      "\n",
      "\n",
      "\n",
      "오늘 밤에도 별이 바람에 스치운다.\n",
      "\n"
     ]
    }
   ],
   "source": [
    "f=open('poem.txt', 'r')\n",
    "lines=f.readlines()\n",
    "\n",
    "for i in lines:\n",
    "    print(i)"
   ]
  },
  {
   "cell_type": "code",
   "execution_count": 4,
   "id": "6fdeff86",
   "metadata": {},
   "outputs": [
    {
     "ename": "NameError",
     "evalue": "name 'coffe4u' is not defined",
     "output_type": "error",
     "traceback": [
      "\u001b[1;31m---------------------------------------------------------------------------\u001b[0m",
      "\u001b[1;31mNameError\u001b[0m                                 Traceback (most recent call last)",
      "\u001b[1;32m<ipython-input-4-d6e4dfca3b17>\u001b[0m in \u001b[0;36m<module>\u001b[1;34m\u001b[0m\n\u001b[0;32m      9\u001b[0m     \u001b[0mprint\u001b[0m\u001b[1;33m(\u001b[0m\u001b[1;34m' ** ** ***'\u001b[0m\u001b[1;33m)\u001b[0m\u001b[1;33m\u001b[0m\u001b[1;33m\u001b[0m\u001b[0m\n\u001b[0;32m     10\u001b[0m     \u001b[0mprint\u001b[0m\u001b[1;33m(\u001b[0m\u001b[1;34m' *******'\u001b[0m\u001b[1;33m)\u001b[0m\u001b[1;33m\u001b[0m\u001b[1;33m\u001b[0m\u001b[0m\n\u001b[1;32m---> 11\u001b[1;33m \u001b[0mcoffe4u\u001b[0m\u001b[1;33m(\u001b[0m\u001b[1;33m)\u001b[0m\u001b[1;33m\u001b[0m\u001b[1;33m\u001b[0m\u001b[0m\n\u001b[0m",
      "\u001b[1;31mNameError\u001b[0m: name 'coffe4u' is not defined"
     ]
    }
   ],
   "source": [
    "def coffee4u() : \n",
    "    print(' S S S') \n",
    "    print(' S S') \n",
    "    print(' S S S S') \n",
    "    print(' S S S') \n",
    "    print('********************** *') \n",
    "    print(' ** Merry ** **') \n",
    "    print(' ** Christmas ** ***') \n",
    "    print(' ** ** ***') \n",
    "    print(' *******')\n",
    "coffe4u()"
   ]
  },
  {
   "cell_type": "code",
   "execution_count": 5,
   "id": "1a111dd8",
   "metadata": {},
   "outputs": [
    {
     "name": "stdout",
     "output_type": "stream",
     "text": [
      "False\n"
     ]
    }
   ],
   "source": [
    "print(True and False)"
   ]
  },
  {
   "cell_type": "code",
   "execution_count": 7,
   "id": "5dbe3df3",
   "metadata": {},
   "outputs": [
    {
     "data": {
      "text/plain": [
       "(1, 2, 3, (1, 2))"
      ]
     },
     "execution_count": 7,
     "metadata": {},
     "output_type": "execute_result"
    }
   ],
   "source": [
    "a=(1,2,3,(1,2))\n",
    "a"
   ]
  },
  {
   "cell_type": "code",
   "execution_count": 8,
   "id": "203d3366",
   "metadata": {},
   "outputs": [
    {
     "data": {
      "text/plain": [
       "[1, 2, 3, 4, 2]"
      ]
     },
     "execution_count": 8,
     "metadata": {},
     "output_type": "execute_result"
    }
   ],
   "source": [
    "a=[1,2,3,4] + [2]\n",
    "a"
   ]
  },
  {
   "cell_type": "code",
   "execution_count": null,
   "id": "83c0bcf5",
   "metadata": {},
   "outputs": [],
   "source": []
  }
 ],
 "metadata": {
  "kernelspec": {
   "display_name": "Python 3",
   "language": "python",
   "name": "python3"
  },
  "language_info": {
   "codemirror_mode": {
    "name": "ipython",
    "version": 3
   },
   "file_extension": ".py",
   "mimetype": "text/x-python",
   "name": "python",
   "nbconvert_exporter": "python",
   "pygments_lexer": "ipython3",
   "version": "3.8.8"
  }
 },
 "nbformat": 4,
 "nbformat_minor": 5
}
