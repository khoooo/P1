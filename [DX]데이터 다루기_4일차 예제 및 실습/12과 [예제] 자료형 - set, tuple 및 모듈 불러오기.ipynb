{
 "cells": [
  {
   "cell_type": "markdown",
   "id": "a5324a9c",
   "metadata": {
    "id": "c0f46717"
   },
   "source": [
    "# 12. 추가 자료형, 모듈 불러오기"
   ]
  },
  {
   "cell_type": "markdown",
   "id": "58f8b956",
   "metadata": {
    "id": "e0695503"
   },
   "source": [
    "## 1. 추가 자료형(Set, Tuple)\n",
    "\n",
    "> 앞서 배운 list, dictionary와 함께 파이썬에서 사용하는 자료형인 set과 tuple에 대해서 배웁니다.  \n",
    "list나 dictionary에 비해서 활용도가 낮기 때문에, 어떤 것인지만 살펴보겠습니다."
   ]
  },
  {
   "cell_type": "markdown",
   "id": "3ce9cff6",
   "metadata": {
    "id": "04beabfe"
   },
   "source": [
    "### 1) Set (집합)"
   ]
  },
  {
   "cell_type": "markdown",
   "id": "6c02204c",
   "metadata": {
    "id": "877f6891"
   },
   "source": [
    "* set \n",
    "    * 수학에서의 집합(set) 을 의미합니다.\n",
    "    * 값의 순서가 없습니다.\n",
    "    * 인덱스로 조회하려면 튜플이나 리스트 등으로 변환해야 합니다.\n",
    "    * 그럼 용도는? 수학에서의 합집합, 교집합, 차집합 등에서 사용.  \n",
    "    \n",
    "    \n",
    "* set 만들기\n",
    "    * 중괄호( {  } )로 선언\n",
    "    * 값들로만 구성\n",
    "    * 인덱스로 조회 안됨!"
   ]
  },
  {
   "cell_type": "markdown",
   "id": "5e62f08f",
   "metadata": {
    "id": "IW10LwqNTP2k"
   },
   "source": [
    "* set에 값 추가하기\n",
    "    * set.add(값)"
   ]
  },
  {
   "cell_type": "code",
   "execution_count": 1,
   "id": "62615a58",
   "metadata": {
    "id": "f8ff9c5d"
   },
   "outputs": [
    {
     "name": "stdout",
     "output_type": "stream",
     "text": [
      "<class 'set'>\n",
      "{1, 2, 3, 4}\n",
      "{1, 2, 3, 4, 5}\n",
      "{1, 2, 3, 4, 5}\n"
     ]
    }
   ],
   "source": [
    "set1 = { 1, 2, 3, 4}\n",
    "\n",
    "print(type(set1))\n",
    "print(set1)\n",
    "\n",
    "set1.add(5) # .add로 추가\n",
    "print(set1)\n",
    "\n",
    "set1.add(3) # 중복된 값은 추가되지 않음.\n",
    "print(set1)"
   ]
  },
  {
   "cell_type": "markdown",
   "id": "4ce0c8a3",
   "metadata": {
    "id": "522b304c"
   },
   "source": [
    "* 실습①"
   ]
  },
  {
   "cell_type": "code",
   "execution_count": 7,
   "id": "6e62f061",
   "metadata": {
    "id": "4d957ddd"
   },
   "outputs": [
    {
     "name": "stdout",
     "output_type": "stream",
     "text": [
      "{'고구마', '호박'}\n",
      "{'고구마', '감자', '호박'}\n",
      "{'고구마', '감자', '호박'}\n",
      "{1, 2, 3, 4, 5}\n"
     ]
    }
   ],
   "source": [
    "# 간단히 set을 만들고 값을 추가해 봅시다.\n",
    "# '호박', '고구마' 로 셋을 만드시오.\n",
    "set2 = { '호박', '고구마' }\n",
    "print(set2)\n",
    "\n",
    "# '감자' 를 추가합시다\n",
    "set2.add('감자')\n",
    "print(set2)\n",
    "\n",
    "# '호박'을 추가합시다.\n",
    "set2.add('호박')\n",
    "print(set2)\n",
    "print(set1)"
   ]
  },
  {
   "cell_type": "markdown",
   "id": "0fde5c3b",
   "metadata": {
    "id": "dd41f76a"
   },
   "source": [
    "### 2) tuple"
   ]
  },
  {
   "cell_type": "markdown",
   "id": "8125e5e8",
   "metadata": {
    "id": "4c1f7028"
   },
   "source": [
    "* 튜플(tuple) \n",
    "    * 종종 어떤 함수의 결과로 보게 됩니다.\n",
    "    * 데이터 쌍을 구성합니다.\n",
    "    * 마치 수학의 좌표값 같은 의미\n",
    "* 튜플 만들기\n",
    "    * 소괄호() 로 생성\n",
    "    * 인덱스로 조회 가능!"
   ]
  },
  {
   "cell_type": "code",
   "execution_count": 10,
   "id": "64b83421",
   "metadata": {
    "id": "3ad594e7"
   },
   "outputs": [
    {
     "name": "stdout",
     "output_type": "stream",
     "text": [
      "<class 'tuple'>\n",
      "(23.5, 10.1)\n",
      "(1, 2, 3, 4, 5)\n",
      "4\n"
     ]
    }
   ],
   "source": [
    "t1 = (23.5, 10.1)\n",
    "t2 = (1,2,3,4,5)\n",
    "print(type(t1))\n",
    "print(t1)\n",
    "print(t2)\n",
    "print(t2[3])"
   ]
  },
  {
   "cell_type": "markdown",
   "id": "0b936363",
   "metadata": {
    "id": "e60e9ed9"
   },
   "source": [
    "* 실습②"
   ]
  },
  {
   "cell_type": "code",
   "execution_count": 12,
   "id": "486952bd",
   "metadata": {
    "id": "fe4c205c"
   },
   "outputs": [
    {
     "name": "stdout",
     "output_type": "stream",
     "text": [
      "(823, 4)\n",
      "<class 'tuple'>\n",
      "823\n"
     ]
    }
   ],
   "source": [
    "# 아래 데이터로 튜플을 만듭시다. \n",
    "# 823, 4\n",
    "t3=(823,4)\n",
    "\n",
    "# 첫번째 값을 조회합니다.\n",
    "print(t3)\n",
    "print(type(t3))\n",
    "print(t3[0])\n"
   ]
  },
  {
   "cell_type": "markdown",
   "id": "bdbc4e01",
   "metadata": {
    "id": "4aab5b05"
   },
   "source": [
    "## 2. 모듈 불러오기"
   ]
  },
  {
   "cell_type": "markdown",
   "id": "10a76c6a",
   "metadata": {},
   "source": [
    "* 라이브러리\n",
    "    * 여러 모듈과 패키지의 묶음\n",
    "* 패키지(혹은 라이브러리)\n",
    "    * 특정 기능과 관련된 여러 모듈들을 하나의 상위 폴더에 넣어 놓은 것\n",
    "* 모듈\n",
    "    * 특정 기능들(함수, 변수, 클래스 등)이 구현되어있는 코드 파일\n",
    "    * 패키지(라이브러리).모듈"
   ]
  },
  {
   "cell_type": "markdown",
   "id": "9665017f",
   "metadata": {
    "id": "19a1a08a"
   },
   "source": [
    "### 1) Import로 라이브러리(패키지) 혹은 모듈을 불러오기\n",
    "* 라이브러리 혹은 모듈의 모든 함수를 다 불러온다.\n",
    "* 사용법 : [라이브러리 혹은 모듈].[함수]"
   ]
  },
  {
   "cell_type": "code",
   "execution_count": 13,
   "id": "cb64e598",
   "metadata": {
    "id": "73bbfdfb"
   },
   "outputs": [
    {
     "data": {
      "text/plain": [
       "6"
      ]
     },
     "execution_count": 13,
     "metadata": {},
     "output_type": "execute_result"
    }
   ],
   "source": [
    "import math\n",
    "\n",
    "math.factorial(3) # 3*2*1"
   ]
  },
  {
   "cell_type": "markdown",
   "id": "4fe7e345",
   "metadata": {
    "id": "9650d8e2"
   },
   "source": [
    "### 2) Import로 라이브러리 혹은 모듈 불러올 때 별칭으로 붙이기"
   ]
  },
  {
   "cell_type": "code",
   "execution_count": 14,
   "id": "6e038b8d",
   "metadata": {
    "id": "b5392b1d"
   },
   "outputs": [
    {
     "data": {
      "text/plain": [
       "6"
      ]
     },
     "execution_count": 14,
     "metadata": {},
     "output_type": "execute_result"
    }
   ],
   "source": [
    "import math as m\n",
    "\n",
    "m.factorial(3) # 3*2*1"
   ]
  },
  {
   "cell_type": "markdown",
   "id": "ffe49bed",
   "metadata": {
    "id": "ea2cf168"
   },
   "source": [
    "### 3) 특정 함수만 불러오기\n",
    "from [라이브러리/모듈] import [함수]"
   ]
  },
  {
   "cell_type": "code",
   "execution_count": 15,
   "id": "e04b31af",
   "metadata": {
    "id": "3001fc0a"
   },
   "outputs": [
    {
     "data": {
      "text/plain": [
       "6"
      ]
     },
     "execution_count": 15,
     "metadata": {},
     "output_type": "execute_result"
    }
   ],
   "source": [
    "from math import factorial\n",
    "\n",
    "factorial(3) # 3*2*1"
   ]
  },
  {
   "cell_type": "markdown",
   "id": "2cfb235d",
   "metadata": {
    "id": "71cf0777"
   },
   "source": [
    "* 실습③\n",
    "    * math 의 제곱근 함수인 sqrt()를 불러와서 수행해 봅시다."
   ]
  },
  {
   "cell_type": "code",
   "execution_count": 16,
   "id": "7c545c66",
   "metadata": {
    "id": "c1608f8b"
   },
   "outputs": [
    {
     "data": {
      "text/plain": [
       "2.0"
      ]
     },
     "execution_count": 16,
     "metadata": {},
     "output_type": "execute_result"
    }
   ],
   "source": [
    "# math 불러와서 sqrt() 사용하기\n",
    "import math\n",
    "\n",
    "math.sqrt(4)"
   ]
  },
  {
   "cell_type": "code",
   "execution_count": 17,
   "id": "5bbd2e85",
   "metadata": {
    "id": "75832e5a"
   },
   "outputs": [
    {
     "data": {
      "text/plain": [
       "2.0"
      ]
     },
     "execution_count": 17,
     "metadata": {},
     "output_type": "execute_result"
    }
   ],
   "source": [
    "# math를 불러올때 별칭을 자신이 원하는 대로 지정하고, sqrt 사용하기\n",
    "import math as m\n",
    "\n",
    "m.sqrt(4)\n"
   ]
  },
  {
   "cell_type": "code",
   "execution_count": 26,
   "id": "3262ea9c",
   "metadata": {
    "id": "aa223c5f"
   },
   "outputs": [
    {
     "name": "stdout",
     "output_type": "stream",
     "text": [
      "2.6457513110645907\n"
     ]
    },
    {
     "data": {
      "text/plain": [
       "2.65"
      ]
     },
     "execution_count": 26,
     "metadata": {},
     "output_type": "execute_result"
    }
   ],
   "source": [
    "# math로 부터 함수 sqrt만 불러와서 사용하기\n",
    "from math import sqrt\n",
    "print(sqrt(7))\n",
    "round(sqrt(7), 2)"
   ]
  },
  {
   "cell_type": "markdown",
   "id": "39b77f97",
   "metadata": {
    "id": "XMztjtnNU0fn"
   },
   "source": [
    "----"
   ]
  },
  {
   "cell_type": "markdown",
   "id": "f88da3db",
   "metadata": {
    "id": "c58992a8"
   },
   "source": [
    "## 실습 답안"
   ]
  },
  {
   "cell_type": "markdown",
   "id": "b2551f64",
   "metadata": {
    "id": "e79816b5"
   },
   "source": [
    "* 실습①"
   ]
  },
  {
   "cell_type": "code",
   "execution_count": null,
   "id": "15bbcbdf",
   "metadata": {
    "id": "acac1037"
   },
   "outputs": [],
   "source": [
    "# 간단히 set을 만들고 값을 추가해 봅시다.\n",
    "# '호박', '고구마' 로 셋을 만드시오.\n",
    "set2 = { '호박', '고구마' }\n",
    "print(set2)\n",
    "\n",
    "# '감자' 를 추가합시다\n",
    "set2.add('감자')\n",
    "print(set2)\n",
    "# '호박'을 추가합시다.\n",
    "set2.add('호박')\n",
    "print(set2)"
   ]
  },
  {
   "cell_type": "markdown",
   "id": "53a14a7e",
   "metadata": {
    "id": "a17a61fc"
   },
   "source": [
    "* 실습②"
   ]
  },
  {
   "cell_type": "code",
   "execution_count": null,
   "id": "60c13c82",
   "metadata": {
    "id": "ca4fbc35"
   },
   "outputs": [],
   "source": [
    "# 튜플이 만듭시다. \n",
    "# 823, 4\n",
    "t = (823, 4)\n",
    "\n",
    "# 첫번째 값을 조회합니다.\n",
    "print(t[0])\n"
   ]
  },
  {
   "cell_type": "markdown",
   "id": "29fe45b1",
   "metadata": {
    "id": "6842fda7"
   },
   "source": [
    "* 실습③\n",
    "    * math 의 제곱근 함수인 sqrt()를 불러와서 수행해 봅시다."
   ]
  },
  {
   "cell_type": "code",
   "execution_count": null,
   "id": "c3d83e56",
   "metadata": {
    "id": "f2f1e46b"
   },
   "outputs": [],
   "source": [
    "# math 불러와서 sqrt() 사용하기\n",
    "\n",
    "import math\n",
    "\n",
    "print(math.sqrt(4))"
   ]
  },
  {
   "cell_type": "code",
   "execution_count": null,
   "id": "e0eaefe6",
   "metadata": {
    "id": "67223b71"
   },
   "outputs": [],
   "source": [
    "# math를 불러올때 별칭을 자신이 원하는 대로 지정하고, sqrt 사용하기\n",
    "\n",
    "import math as m\n",
    "\n",
    "m.sqrt(16)"
   ]
  },
  {
   "cell_type": "code",
   "execution_count": null,
   "id": "f8b1111b",
   "metadata": {
    "id": "e37c3edb"
   },
   "outputs": [],
   "source": [
    "# math로 부터 함수 sqrt만 불러와서 사용하기\n",
    "\n",
    "from math import sqrt\n",
    "\n",
    "sqrt(36)"
   ]
  }
 ],
 "metadata": {
  "colab": {
   "collapsed_sections": [],
   "name": "12과 [예제] 자료형 - set, tuple 및 모듈 불러오기.ipynb",
   "provenance": []
  },
  "kernelspec": {
   "display_name": "Python 3",
   "language": "python",
   "name": "python3"
  },
  "language_info": {
   "codemirror_mode": {
    "name": "ipython",
    "version": 3
   },
   "file_extension": ".py",
   "mimetype": "text/x-python",
   "name": "python",
   "nbconvert_exporter": "python",
   "pygments_lexer": "ipython3",
   "version": "3.8.8"
  }
 },
 "nbformat": 4,
 "nbformat_minor": 5
}
