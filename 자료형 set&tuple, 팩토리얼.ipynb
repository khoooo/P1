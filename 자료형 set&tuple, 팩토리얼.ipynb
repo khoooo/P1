{
 "cells": [
  {
   "cell_type": "markdown",
   "id": "a61c0e6f",
   "metadata": {},
   "source": [
    "## 자료형 set"
   ]
  },
  {
   "cell_type": "code",
   "execution_count": 2,
   "id": "3e64e7f7",
   "metadata": {},
   "outputs": [
    {
     "name": "stdout",
     "output_type": "stream",
     "text": [
      "<class 'set'>\n",
      "{1, 2, 3, 4}\n"
     ]
    }
   ],
   "source": [
    "set1 = {1,2,3,4}\n",
    "\n",
    "print(type(set1))\n",
    "print(set1)"
   ]
  },
  {
   "cell_type": "code",
   "execution_count": 3,
   "id": "40073bb6",
   "metadata": {},
   "outputs": [
    {
     "name": "stdout",
     "output_type": "stream",
     "text": [
      "{1, 2, 3, 4, 5, 6, 7}\n"
     ]
    }
   ],
   "source": [
    "set1.add(5)\n",
    "set1.add(6)\n",
    "set1.add(7)\n",
    "\n",
    "print(set1)"
   ]
  },
  {
   "cell_type": "code",
   "execution_count": 8,
   "id": "92dae8e9",
   "metadata": {},
   "outputs": [
    {
     "name": "stdout",
     "output_type": "stream",
     "text": [
      "{'h', 'w', 'd', 'e', 'r', 'o', 'l'}\n"
     ]
    }
   ],
   "source": [
    "set2 = {'h', 'e', 'l', 'l', 'o'}\n",
    "set2.add('w')\n",
    "set2.add('o')\n",
    "set2.add('r')\n",
    "set2.add('l')\n",
    "set2.add('d')\n",
    "\n",
    "\n",
    "print(set2)\n",
    "\n",
    "# 중복 안됨\n",
    "# 영어 순서대로 x"
   ]
  },
  {
   "cell_type": "markdown",
   "id": "51178423",
   "metadata": {},
   "source": [
    "## 자료형 - tuple"
   ]
  },
  {
   "cell_type": "code",
   "execution_count": 17,
   "id": "99c860b0",
   "metadata": {},
   "outputs": [
    {
     "name": "stdout",
     "output_type": "stream",
     "text": [
      "(1, 2, 3, 4, 5)\n",
      "<class 'tuple'>\n",
      "11\n",
      "(10, 11)\n"
     ]
    }
   ],
   "source": [
    "t1 = (1,2,3,4,5)\n",
    "t2 = (10,11,24,31,23)\n",
    "\n",
    "print(t1)\n",
    "print(type(t2))\n",
    "print(t1[0] + t2[0])\n",
    "print(t2[:2])          # 2 포함 안됨."
   ]
  },
  {
   "cell_type": "markdown",
   "id": "f6f4fe93",
   "metadata": {},
   "source": [
    "## 팩토리얼"
   ]
  },
  {
   "cell_type": "code",
   "execution_count": 1,
   "id": "fd5afcac",
   "metadata": {},
   "outputs": [
    {
     "data": {
      "text/plain": [
       "6"
      ]
     },
     "execution_count": 1,
     "metadata": {},
     "output_type": "execute_result"
    }
   ],
   "source": [
    "import math as m\n",
    "m.factorial(3)"
   ]
  },
  {
   "cell_type": "markdown",
   "id": "80db30b8",
   "metadata": {},
   "source": [
    "#### 예시1. 주사위 던져서 나온 숫자들의 총합 코드\n",
    " - 세 번 던짐.\n",
    " "
   ]
  },
  {
   "cell_type": "code",
   "execution_count": 19,
   "id": "0938c33f",
   "metadata": {},
   "outputs": [
    {
     "name": "stdout",
     "output_type": "stream",
     "text": [
      "[5, 5, 2]\n",
      "12\n"
     ]
    }
   ],
   "source": [
    "import random as rand\n",
    "\n",
    "count = 3\n",
    "a = 0\n",
    "num = []\n",
    "\n",
    "for i in range(count):\n",
    "    num.append(rand.randint(1,6))             # 1~6까지 랜덤 뽑기\n",
    "    \n",
    "print(num)\n",
    "print(sum(num))"
   ]
  },
  {
   "cell_type": "markdown",
   "id": "af8da981",
   "metadata": {},
   "source": [
    "#### 예시2. \n",
    " - 두개 주사위\n",
    " - 랜덤으로 던짐\n",
    " - 합, 평균 print"
   ]
  },
  {
   "cell_type": "code",
   "execution_count": 42,
   "id": "58dac7c0",
   "metadata": {},
   "outputs": [
    {
     "name": "stdout",
     "output_type": "stream",
     "text": [
      "3 2\n",
      "2 1\n",
      "6 3\n",
      "5 1\n",
      "list : [3, 2, 6, 5] [2, 1, 3, 1]\n",
      "합계 : 16 7\n",
      "평균 : 4.0 1.75\n"
     ]
    }
   ],
   "source": [
    "import random as rand\n",
    "import numpy as np\n",
    "\n",
    "a = []\n",
    "b = []\n",
    "count = rand.randint(2,4)\n",
    "\n",
    "for i in range(count):\n",
    "    r1 = rand.randint(1,6)\n",
    "    r2 = rand.randint(1,6)\n",
    "    \n",
    "    a.append(r1)\n",
    "    b.append(r2)\n",
    "    print(r1, r2)\n",
    "    \n",
    "print('list :', a, b)\n",
    "print('합계 :', sum(a), sum(b))\n",
    "\n",
    "np.array(b)\n",
    "print('평균 :', sum(a)/len(a), np.mean(b))"
   ]
  },
  {
   "cell_type": "code",
   "execution_count": null,
   "id": "0b8679ec",
   "metadata": {},
   "outputs": [],
   "source": []
  }
 ],
 "metadata": {
  "kernelspec": {
   "display_name": "Python 3",
   "language": "python",
   "name": "python3"
  },
  "language_info": {
   "codemirror_mode": {
    "name": "ipython",
    "version": 3
   },
   "file_extension": ".py",
   "mimetype": "text/x-python",
   "name": "python",
   "nbconvert_exporter": "python",
   "pygments_lexer": "ipython3",
   "version": "3.8.8"
  }
 },
 "nbformat": 4,
 "nbformat_minor": 5
}
