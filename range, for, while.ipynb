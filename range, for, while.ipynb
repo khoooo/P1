{
 "cells": [
  {
   "cell_type": "markdown",
   "id": "ce75af14",
   "metadata": {},
   "source": [
    "#### range\n",
    "- range는 list로 나열해야 보인다."
   ]
  },
  {
   "cell_type": "code",
   "execution_count": 4,
   "id": "6679f888",
   "metadata": {},
   "outputs": [
    {
     "data": {
      "text/plain": [
       "range(0, 21)"
      ]
     },
     "execution_count": 4,
     "metadata": {},
     "output_type": "execute_result"
    }
   ],
   "source": [
    "range(21)"
   ]
  },
  {
   "cell_type": "code",
   "execution_count": 3,
   "id": "fbd208f6",
   "metadata": {},
   "outputs": [
    {
     "data": {
      "text/plain": [
       "[1, 4, 7, 10, 13, 16, 19]"
      ]
     },
     "execution_count": 3,
     "metadata": {},
     "output_type": "execute_result"
    }
   ],
   "source": [
    "list(range(1,20,3))"
   ]
  },
  {
   "cell_type": "markdown",
   "id": "4405ea78",
   "metadata": {},
   "source": [
    "#### for문"
   ]
  },
  {
   "cell_type": "markdown",
   "id": "8708d653",
   "metadata": {},
   "source": [
    "0~5까지 1식 증가하며 한 줄씩 출력"
   ]
  },
  {
   "cell_type": "code",
   "execution_count": 6,
   "id": "3494d6c2",
   "metadata": {},
   "outputs": [
    {
     "name": "stdout",
     "output_type": "stream",
     "text": [
      "0\n",
      "1\n",
      "2\n",
      "3\n",
      "4\n",
      "5\n"
     ]
    }
   ],
   "source": [
    "for i in range(0,6,1):\n",
    "    print(i)"
   ]
  },
  {
   "cell_type": "markdown",
   "id": "866a6e4d",
   "metadata": {},
   "source": [
    "트리"
   ]
  },
  {
   "cell_type": "code",
   "execution_count": 11,
   "id": "58632da5",
   "metadata": {},
   "outputs": [
    {
     "name": "stdout",
     "output_type": "stream",
     "text": [
      "     \n",
      "     *\n",
      "    * *\n",
      "   * * *\n",
      "  * * * *\n",
      " * * * * *\n"
     ]
    }
   ],
   "source": [
    "for i in range(0,6,1):\n",
    "    print(' '*(5-i) + ' *'*i)"
   ]
  },
  {
   "cell_type": "markdown",
   "id": "14cb5348",
   "metadata": {},
   "source": [
    "홀수줄 : *  / \n",
    "짝수줄 : @"
   ]
  },
  {
   "cell_type": "code",
   "execution_count": 17,
   "id": "9fa091e3",
   "metadata": {},
   "outputs": [
    {
     "name": "stdout",
     "output_type": "stream",
     "text": [
      "\n",
      "*\n",
      "@@\n",
      "***\n",
      "@@@@\n",
      "*****\n",
      "@@@@@@\n",
      "*******\n",
      "@@@@@@@@\n",
      "*********\n",
      "@@@@@@@@@@\n"
     ]
    }
   ],
   "source": [
    "for i in range(0,11,1):\n",
    "    if i % 2 == 1:\n",
    "        print('*'*i)\n",
    "    else:\n",
    "        print('@'*i)"
   ]
  },
  {
   "cell_type": "markdown",
   "id": "e3d5d4f3",
   "metadata": {},
   "source": [
    "1~100 모두 더하기"
   ]
  },
  {
   "cell_type": "code",
   "execution_count": 18,
   "id": "28c4716e",
   "metadata": {},
   "outputs": [
    {
     "name": "stdout",
     "output_type": "stream",
     "text": [
      "5050\n"
     ]
    }
   ],
   "source": [
    "a = 0\n",
    "\n",
    "for i in range(0,101,1):\n",
    "    a += i\n",
    "    \n",
    "print(a)"
   ]
  },
  {
   "cell_type": "markdown",
   "id": "5656abcf",
   "metadata": {},
   "source": [
    "1~100 홀수만 더하기"
   ]
  },
  {
   "cell_type": "code",
   "execution_count": 22,
   "id": "853bfc4f",
   "metadata": {},
   "outputs": [
    {
     "name": "stdout",
     "output_type": "stream",
     "text": [
      "2500\n"
     ]
    }
   ],
   "source": [
    "a = 0\n",
    "\n",
    "for i in range(1,101,2):\n",
    "    a += i\n",
    "    \n",
    "print(a)"
   ]
  },
  {
   "cell_type": "code",
   "execution_count": 23,
   "id": "fdcffa75",
   "metadata": {},
   "outputs": [
    {
     "name": "stdout",
     "output_type": "stream",
     "text": [
      "2500\n"
     ]
    }
   ],
   "source": [
    "a = 0\n",
    "\n",
    "for i in range(1,101,1):\n",
    "    if i % 2 == 1:\n",
    "        a += i\n",
    "        \n",
    "print(a)"
   ]
  },
  {
   "cell_type": "markdown",
   "id": "1e13f1ee",
   "metadata": {},
   "source": [
    "구구단"
   ]
  },
  {
   "cell_type": "code",
   "execution_count": 31,
   "id": "4f417d6d",
   "metadata": {},
   "outputs": [
    {
     "name": "stdout",
     "output_type": "stream",
     "text": [
      "2 * 1 = 2\n",
      "2 * 2 = 4\n",
      "2 * 3 = 6\n",
      "2 * 4 = 8\n",
      "2 * 5 = 10\n",
      "2 * 6 = 12\n",
      "2 * 7 = 14\n",
      "2 * 8 = 16\n",
      "2 * 9 = 18\n",
      "----------\n",
      "3 * 1 = 3\n",
      "3 * 2 = 6\n",
      "3 * 3 = 9\n",
      "3 * 4 = 12\n",
      "3 * 5 = 15\n",
      "3 * 6 = 18\n",
      "3 * 7 = 21\n",
      "3 * 8 = 24\n",
      "3 * 9 = 27\n",
      "----------\n",
      "4 * 1 = 4\n",
      "4 * 2 = 8\n",
      "4 * 3 = 12\n",
      "4 * 4 = 16\n",
      "4 * 5 = 20\n",
      "4 * 6 = 24\n",
      "4 * 7 = 28\n",
      "4 * 8 = 32\n",
      "4 * 9 = 36\n",
      "----------\n",
      "5 * 1 = 5\n",
      "5 * 2 = 10\n",
      "5 * 3 = 15\n",
      "5 * 4 = 20\n",
      "5 * 5 = 25\n",
      "5 * 6 = 30\n",
      "5 * 7 = 35\n",
      "5 * 8 = 40\n",
      "5 * 9 = 45\n",
      "----------\n",
      "6 * 1 = 6\n",
      "6 * 2 = 12\n",
      "6 * 3 = 18\n",
      "6 * 4 = 24\n",
      "6 * 5 = 30\n",
      "6 * 6 = 36\n",
      "6 * 7 = 42\n",
      "6 * 8 = 48\n",
      "6 * 9 = 54\n",
      "----------\n",
      "7 * 1 = 7\n",
      "7 * 2 = 14\n",
      "7 * 3 = 21\n",
      "7 * 4 = 28\n",
      "7 * 5 = 35\n",
      "7 * 6 = 42\n",
      "7 * 7 = 49\n",
      "7 * 8 = 56\n",
      "7 * 9 = 63\n",
      "----------\n",
      "8 * 1 = 8\n",
      "8 * 2 = 16\n",
      "8 * 3 = 24\n",
      "8 * 4 = 32\n",
      "8 * 5 = 40\n",
      "8 * 6 = 48\n",
      "8 * 7 = 56\n",
      "8 * 8 = 64\n",
      "8 * 9 = 72\n",
      "----------\n",
      "9 * 1 = 9\n",
      "9 * 2 = 18\n",
      "9 * 3 = 27\n",
      "9 * 4 = 36\n",
      "9 * 5 = 45\n",
      "9 * 6 = 54\n",
      "9 * 7 = 63\n",
      "9 * 8 = 72\n",
      "9 * 9 = 81\n",
      "----------\n"
     ]
    }
   ],
   "source": [
    "for i in range(2,10,1):\n",
    "    for j in range(1,10,1):\n",
    "        print(i, '*', j, '=', i*j)\n",
    "    print('-'*10)"
   ]
  },
  {
   "cell_type": "markdown",
   "id": "5bd2c46d",
   "metadata": {},
   "source": [
    "#### while"
   ]
  },
  {
   "cell_type": "markdown",
   "id": "5828c2fc",
   "metadata": {},
   "source": [
    "0~5 - 1씩 +"
   ]
  },
  {
   "cell_type": "code",
   "execution_count": 40,
   "id": "c9222c6b",
   "metadata": {},
   "outputs": [
    {
     "name": "stdout",
     "output_type": "stream",
     "text": [
      "0\n",
      "1\n",
      "2\n",
      "3\n",
      "4\n",
      "5\n"
     ]
    }
   ],
   "source": [
    "a = 0\n",
    "\n",
    "while a <= 5:\n",
    "    print(a)\n",
    "    a += 1"
   ]
  },
  {
   "cell_type": "code",
   "execution_count": null,
   "id": "90575961",
   "metadata": {},
   "outputs": [],
   "source": []
  }
 ],
 "metadata": {
  "kernelspec": {
   "display_name": "Python 3",
   "language": "python",
   "name": "python3"
  },
  "language_info": {
   "codemirror_mode": {
    "name": "ipython",
    "version": 3
   },
   "file_extension": ".py",
   "mimetype": "text/x-python",
   "name": "python",
   "nbconvert_exporter": "python",
   "pygments_lexer": "ipython3",
   "version": "3.8.8"
  }
 },
 "nbformat": 4,
 "nbformat_minor": 5
}
